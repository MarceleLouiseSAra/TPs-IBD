{
  "nbformat": 4,
  "nbformat_minor": 0,
  "metadata": {
    "colab": {
      "provenance": [],
      "authorship_tag": "ABX9TyMwzC3wDI0G7Uc43PBNA08t",
      "include_colab_link": true
    },
    "kernelspec": {
      "name": "python3",
      "display_name": "Python 3"
    },
    "language_info": {
      "name": "python"
    }
  },
  "cells": [
    {
      "cell_type": "markdown",
      "metadata": {
        "id": "view-in-github",
        "colab_type": "text"
      },
      "source": [
        "<a href=\"https://colab.research.google.com/github/MarceleLouiseSAra/TPs-IBD/blob/main/TP2_IBD.ipynb\" target=\"_parent\"><img src=\"https://colab.research.google.com/assets/colab-badge.svg\" alt=\"Open In Colab\"/></a>"
      ]
    },
    {
      "cell_type": "markdown",
      "source": [
        "Título:\n",
        "\n",
        "> *Adicionar aspas*\n",
        "\n"
      ],
      "metadata": {
        "id": "e9vfYLNLnDJ8"
      }
    },
    {
      "cell_type": "markdown",
      "source": [
        "Membros (nomes e números de matrícula):\n",
        "\n",
        "> *Marcele Louise Silva Araponga, 2022*****\n",
        "\n"
      ],
      "metadata": {
        "id": "DK6ecCLgnuPu"
      }
    },
    {
      "cell_type": "markdown",
      "source": [
        "3) Descrição dos dados:\n",
        "\n",
        "> *Os dados escolhidos para análise exploratória podem ser encontrados [neste](https://dados.gov.br/dados/conjuntos-dados/crt-obras-nao-publicitarias-registradas) link para o Portal de Dados Abertos do Governo Federal. Tratam-se de registros do trâmite de obtenção do CRT, ou \"Certificado de Registro de Título\", de diferentes obras não publicitárias pela Agência Nacional de Cinema, para que essas possam ser veículas em território brasileiro.*\n",
        "\n",
        "3.1) Entidades:\n",
        "\n",
        "> *tchubirau down down*\n",
        "\n",
        "3.2) Relacionamentos:\n",
        "\n",
        "> *tchubirau down down*\n",
        "\n",
        "3.3) Normalizações:\n",
        "\n",
        "> *tchubirau down down*\n",
        "\n",
        "3.4) Configurações iniciais:\n"
      ],
      "metadata": {
        "id": "Ev8y3I96nu2-"
      }
    },
    {
      "cell_type": "code",
      "source": [],
      "metadata": {
        "id": "VuPQf875rpt5"
      },
      "execution_count": null,
      "outputs": []
    },
    {
      "cell_type": "markdown",
      "source": [
        "4) Diagrama ER:\n",
        "\n",
        "> *Adicionar aspas*\n",
        "\n"
      ],
      "metadata": {
        "id": "AuSkU_SOnvBG"
      }
    },
    {
      "cell_type": "markdown",
      "source": [
        "5) Diagrama relacional:\n",
        "\n",
        "> *Adicionar aspas*\n",
        "\n"
      ],
      "metadata": {
        "id": "pm8H6RiInvHX"
      }
    },
    {
      "cell_type": "markdown",
      "source": [
        "6) Consultas:"
      ],
      "metadata": {
        "id": "VWUAZNbDpqUd"
      }
    },
    {
      "cell_type": "markdown",
      "source": [
        "6.1) Duas consultas envolvendo relação e projeção:\n",
        "\n"
      ],
      "metadata": {
        "id": "W3apU2e3pK9-"
      }
    },
    {
      "cell_type": "markdown",
      "source": [
        "  6.1.1) 1ª consulta:"
      ],
      "metadata": {
        "id": "5RhwLFAMp49K"
      }
    },
    {
      "cell_type": "code",
      "execution_count": null,
      "metadata": {
        "id": "gOol77RGm-mi"
      },
      "outputs": [],
      "source": []
    },
    {
      "cell_type": "markdown",
      "source": [
        "6.1.2) 2ª consulta:\n",
        "\n"
      ],
      "metadata": {
        "id": "cGQoDE11p5Ev"
      }
    },
    {
      "cell_type": "code",
      "source": [],
      "metadata": {
        "id": "CnpzQScwqgus"
      },
      "execution_count": null,
      "outputs": []
    },
    {
      "cell_type": "markdown",
      "source": [
        "6.2) Três consultas envolvendo junção de duas relações:"
      ],
      "metadata": {
        "id": "PHPwVJIsqkVu"
      }
    },
    {
      "cell_type": "markdown",
      "source": [
        "6.2.1) 1ª consulta:\n",
        "\n"
      ],
      "metadata": {
        "id": "bBD_oNCZrQkk"
      }
    },
    {
      "cell_type": "code",
      "source": [],
      "metadata": {
        "id": "k6pWcJvPrjLo"
      },
      "execution_count": null,
      "outputs": []
    },
    {
      "cell_type": "markdown",
      "source": [
        "6.2.2) 2ª consulta:\n",
        "\n"
      ],
      "metadata": {
        "id": "zjYQi-kZrQrJ"
      }
    },
    {
      "cell_type": "code",
      "source": [],
      "metadata": {
        "id": "s9pvyQfOrjt6"
      },
      "execution_count": null,
      "outputs": []
    },
    {
      "cell_type": "markdown",
      "source": [
        "6.2.3) 3ª consulta:\n",
        "\n"
      ],
      "metadata": {
        "id": "VNrTQ-x-rQwj"
      }
    },
    {
      "cell_type": "code",
      "source": [],
      "metadata": {
        "id": "SihGacCmrkaz"
      },
      "execution_count": null,
      "outputs": []
    },
    {
      "cell_type": "markdown",
      "source": [
        "6.3) Três consultas envolvendo junção de três ou mais relações:"
      ],
      "metadata": {
        "id": "b_mQ-5B5rYKi"
      }
    },
    {
      "cell_type": "markdown",
      "source": [
        "6.3.1) 1ª consulta:"
      ],
      "metadata": {
        "id": "qFKLJ2q0r3y_"
      }
    },
    {
      "cell_type": "code",
      "source": [],
      "metadata": {
        "id": "HYRzABwCsExp"
      },
      "execution_count": null,
      "outputs": []
    },
    {
      "cell_type": "markdown",
      "source": [
        "6.3.2) 2ª consulta:"
      ],
      "metadata": {
        "id": "-zjGK8ktsFSI"
      }
    },
    {
      "cell_type": "code",
      "source": [],
      "metadata": {
        "id": "UMK1tUvZsGpg"
      },
      "execution_count": null,
      "outputs": []
    },
    {
      "cell_type": "markdown",
      "source": [
        "6.3.3) 3ª consulta:"
      ],
      "metadata": {
        "id": "wdsG2pIEsGz4"
      }
    },
    {
      "cell_type": "code",
      "source": [],
      "metadata": {
        "id": "GJnCq6B0sIRA"
      },
      "execution_count": null,
      "outputs": []
    },
    {
      "cell_type": "markdown",
      "source": [
        "6.4) Duas consultas envolvendo agregação sobre junção de duas ou mais relações:"
      ],
      "metadata": {
        "id": "GZxw4jgUsIbt"
      }
    },
    {
      "cell_type": "code",
      "source": [],
      "metadata": {
        "id": "XALbrc3HsKu7"
      },
      "execution_count": null,
      "outputs": []
    },
    {
      "cell_type": "markdown",
      "source": [
        "6.4.1) 1ª consulta:"
      ],
      "metadata": {
        "id": "OwiZEEGRsK3P"
      }
    },
    {
      "cell_type": "code",
      "source": [],
      "metadata": {
        "id": "F4QiZn8NsMAz"
      },
      "execution_count": null,
      "outputs": []
    },
    {
      "cell_type": "markdown",
      "source": [
        "6.4.2) 2ª consulta:"
      ],
      "metadata": {
        "id": "W5u7izcLsMJA"
      }
    },
    {
      "cell_type": "code",
      "source": [],
      "metadata": {
        "id": "IgQQvg5RsM91"
      },
      "execution_count": null,
      "outputs": []
    }
  ]
}
