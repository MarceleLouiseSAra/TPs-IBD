{
  "nbformat": 4,
  "nbformat_minor": 0,
  "metadata": {
    "colab": {
      "provenance": [],
      "authorship_tag": "ABX9TyMSE7A/rc6Z35s0ZyGXkW4N",
      "include_colab_link": true
    },
    "kernelspec": {
      "name": "python3",
      "display_name": "Python 3"
    },
    "language_info": {
      "name": "python"
    }
  },
  "cells": [
    {
      "cell_type": "markdown",
      "metadata": {
        "id": "view-in-github",
        "colab_type": "text"
      },
      "source": [
        "<a href=\"https://colab.research.google.com/github/MarceleLouiseSAra/TPs-IBD/blob/main/TP2.ipynb\" target=\"_parent\"><img src=\"https://colab.research.google.com/assets/colab-badge.svg\" alt=\"Open In Colab\"/></a>"
      ]
    },
    {
      "cell_type": "markdown",
      "source": [
        "Título:\n",
        "\n",
        "> *Adicionar aspas*\n",
        "\n"
      ],
      "metadata": {
        "id": "e9vfYLNLnDJ8"
      }
    },
    {
      "cell_type": "markdown",
      "source": [
        "Membros (nomes e números de matrícula):\n",
        "\n",
        "> *Marcele Louise Silva Araponga, 2022*****\n",
        "\n"
      ],
      "metadata": {
        "id": "DK6ecCLgnuPu"
      }
    },
    {
      "cell_type": "markdown",
      "source": [
        "3) Descrição dos dados:\n",
        "\n",
        "> *Os dados escolhidos para análise exploratória podem ser encontrados [neste](https://dados.gov.br/dados/conjuntos-dados/crt-obras-nao-publicitarias-registradas) link para o Portal de Dados Abertos do Governo Federal. Tratam-se de registros do trâmite de obtenção do CRT, ou \"Certificado de Registro de Título\", de diferentes obras não publicitárias pela Agência Nacional de Cinema, para que essas possam ser veículas em território brasileiro.*\n",
        "\n",
        "3.1) Entidades:\n",
        "\n",
        "> *tchubirau down down*\n",
        "\n",
        "3.2) Relacionamentos:\n",
        "\n",
        "> *tchubirau down down*\n",
        "\n",
        "3.3) Normalizações:\n",
        "\n",
        "> *tchubirau down down*\n",
        "\n",
        "3.4) Configurações iniciais:\n"
      ],
      "metadata": {
        "id": "Ev8y3I96nu2-"
      }
    },
    {
      "cell_type": "code",
      "source": [
        "import csv\n",
        "import pandas as pd\n",
        "import sqlite3\n",
        "\n",
        "import requests\n",
        "from PIL import Image\n",
        "from io import BytesIO\n",
        "import seaborn as sns\n",
        "import matplotlib.pyplot as plt\n",
        "from collections import Counter\n",
        "\n",
        "from google.colab import drive\n",
        "drive.mount('/content/drive')"
      ],
      "metadata": {
        "id": "VuPQf875rpt5",
        "colab": {
          "base_uri": "https://localhost:8080/"
        },
        "outputId": "9c49eb2a-3360-4b1b-f4ae-19604ca7436f"
      },
      "execution_count": 1,
      "outputs": [
        {
          "output_type": "stream",
          "name": "stdout",
          "text": [
            "Mounted at /content/drive\n"
          ]
        }
      ]
    },
    {
      "cell_type": "code",
      "source": [
        "def fetch(query, conn, formatted=True):\n",
        "    # execute the query and fetch all rows\n",
        "    cur = conn.cursor()\n",
        "    cur.execute(query)\n",
        "    rs = cur.fetchall()\n",
        "\n",
        "    # extract column names from the cursor description\n",
        "    columns = [desc[0] for desc in cur.description]\n",
        "\n",
        "    # return a dataframe with column names\n",
        "    return pd.DataFrame(rs, columns=columns) if formatted else rs\n",
        "\n",
        "def show_tables(conn):\n",
        "    return [x[0] for x in fetch('SELECT tbl_name FROM sqlite_master WHERE type=\"table\"', conn, False)]\n",
        "\n",
        "def shape(table, conn):\n",
        "    nrows = fetch(f'SELECT COUNT(*) FROM {table}', conn, False)[0][0]\n",
        "    ncols = fetch(f'SELECT COUNT(*) FROM pragma_table_info(\"{table}\")', conn, False)[0][0]\n",
        "\n",
        "    return (nrows, ncols)\n",
        "\n",
        "def desc(table, conn):\n",
        "    cur = conn.cursor()\n",
        "    cur.execute(f'PRAGMA table_info(\"{table}\")')\n",
        "    columns = [row[1] for row in cur.fetchall()]\n",
        "\n",
        "    return columns\n",
        "\n",
        "def info(table, conn):\n",
        "    # table constraints (domain, null, default, pk)\n",
        "    df1 = fetch(f'PRAGMA table_info(\"{table}\")', conn)\n",
        "    columns = desc(table, conn)\n",
        "\n",
        "    # entries per column\n",
        "    counts = ', '.join([f'COUNT(*) AS \"{column}\"' for column in columns])\n",
        "    df2 = fetch(f'SELECT {counts} FROM \"{table}\"', conn).transpose()\n",
        "    df2.columns = ['count']\n",
        "\n",
        "    # non-null entries per column\n",
        "    counts = ', '.join([f'COUNT(\"{column}\") AS \"{column}\"' for column in columns])\n",
        "    df3 = fetch(f'SELECT {counts} FROM \"{table}\"', conn).transpose()\n",
        "    df3.columns = ['notnull count']\n",
        "\n",
        "    # unique non-null entries per column\n",
        "    counts = ', '.join([f'COUNT(DISTINCT \"{column}\") AS \"{column}\"' for column in columns])\n",
        "    df4 = fetch(f'SELECT {counts} FROM \"{table}\"', conn).transpose()\n",
        "    df4.columns = ['unique count']\n",
        "\n",
        "    return df1.merge(df2, left_on='name', right_index=True) \\\n",
        "            .merge(df3, left_on='name', right_index=True) \\\n",
        "            .merge(df4, left_on='name', right_index=True)\n",
        "\n",
        "def display(urls, cols=5):\n",
        "    # fetch images\n",
        "    images = []\n",
        "    for url in urls:\n",
        "        response = requests.get(url)\n",
        "        if response.status_code == 200:\n",
        "            images.append(Image.open(BytesIO(response.content)))\n",
        "\n",
        "    # calculate the number of rows\n",
        "    rows = (len(images) + cols - 1) // cols\n",
        "    fig, axs = plt.subplots(rows, cols, figsize=(15, 5 * rows))\n",
        "\n",
        "    for i, ax in enumerate(axs.flat):\n",
        "        if i < len(images):\n",
        "            ax.imshow(images[i])\n",
        "            ax.axis(\"off\")  # Hide axes\n",
        "        else:\n",
        "            ax.axis(\"off\")  # Hide unused subplots\n",
        "    plt.tight_layout()\n",
        "    plt.show()\n",
        "\n",
        "def hist(data, xlabel='', ylabel='', bins='auto'):\n",
        "    # convert list of tuples into dataframe\n",
        "    df = pd.DataFrame(data, columns=['key', 'frequency'])\n",
        "    # expand the data based on frequencies\n",
        "    expanded = df.loc[df.index.repeat(df['frequency'])].reset_index(drop=True)\n",
        "\n",
        "    # plot histogram\n",
        "    sns.histplot(expanded['key'], bins=bins, kde=False)\n",
        "\n",
        "    plt.xlabel(xlabel)\n",
        "    plt.ylabel(ylabel)\n",
        "    plt.xticks(rotation=90)\n",
        "    plt.show()"
      ],
      "metadata": {
        "id": "EztNWMlyvYBK"
      },
      "execution_count": null,
      "outputs": []
    },
    {
      "cell_type": "code",
      "source": [
        "# source dataset: https://www.kaggle.com/datasets/amanbarthwal/imdb-movies-data\n",
        "source = '/content/drive/MyDrive/crt-obras-nao-publicitarias-2002.csv'\n",
        "\n",
        "# connect to SQLite database\n",
        "conn = sqlite3.connect('imdb-movies.db')\n",
        "cur = conn.cursor()\n",
        "\n",
        "# set PRAGMA options for faster ingestion\n",
        "cur.execute('PRAGMA synchronous = OFF')\n",
        "cur.execute('PRAGMA journal_mode = MEMORY')\n",
        "\n",
        "# batch size for processing large datasets\n",
        "BATCH_SIZE = 1000\n",
        "\n",
        "# begin transaction for bulk ingestion\n",
        "cur.execute('BEGIN TRANSACTION')\n",
        "\n",
        "# read the CSV file and ingest in batches\n",
        "with open(source, 'r') as f:\n",
        "    reader = csv.reader(f)\n",
        "    header = next(reader)  # Read the header row\n",
        "\n",
        "    # create table with appropriate column names\n",
        "    columns = [f'\"{column}\"' for column in header]\n",
        "    create = f'CREATE TABLE IF NOT EXISTS Source ({\", \".join(columns)})'\n",
        "    cur.execute(create)\n",
        "\n",
        "    # prepare the INSERT query\n",
        "    placeholders = ', '.join(['?'] * len(header))\n",
        "    insert = f'INSERT INTO Source VALUES ({placeholders})'\n",
        "\n",
        "    # process rows in batches\n",
        "    batch = []\n",
        "    for row in reader:\n",
        "        batch.append(row)\n",
        "        if len(batch) == BATCH_SIZE:\n",
        "            # Execute batch insert\n",
        "            cur.executemany(insert, batch)\n",
        "            # Reset batch\n",
        "            batch = []\n",
        "\n",
        "    # insert any remaining rows\n",
        "    if batch:\n",
        "        cur.executemany(insert, batch)\n",
        "\n",
        "# nullify empty values, so they are recognized as proper nulls\n",
        "update = f'UPDATE Source SET ' + ','.join([f'{column} = NULLIF({column}, \"\")' for column in columns])\n",
        "cur.execute(update)\n",
        "\n",
        "# commit changes\n",
        "conn.commit()\n",
        "\n",
        "# reset PRAGMA options (optional but recommended for safety)\n",
        "cur.execute('PRAGMA synchronous = FULL')\n",
        "cur.execute('PRAGMA journal_mode = DELETE')"
      ],
      "metadata": {
        "id": "0vKdaNWZvgoz"
      },
      "execution_count": null,
      "outputs": []
    },
    {
      "cell_type": "markdown",
      "source": [
        "4) Diagrama ER:\n",
        "\n",
        "> *Adicionar aspas*\n",
        "\n"
      ],
      "metadata": {
        "id": "AuSkU_SOnvBG"
      }
    },
    {
      "cell_type": "markdown",
      "source": [
        "5) Diagrama relacional:\n",
        "\n",
        "> *Adicionar aspas*\n",
        "\n"
      ],
      "metadata": {
        "id": "pm8H6RiInvHX"
      }
    },
    {
      "cell_type": "markdown",
      "source": [
        "6) Consultas:"
      ],
      "metadata": {
        "id": "VWUAZNbDpqUd"
      }
    },
    {
      "cell_type": "markdown",
      "source": [
        "6.1) Duas consultas envolvendo relação e projeção:\n",
        "\n"
      ],
      "metadata": {
        "id": "W3apU2e3pK9-"
      }
    },
    {
      "cell_type": "markdown",
      "source": [
        "  6.1.1) 1ª consulta:"
      ],
      "metadata": {
        "id": "5RhwLFAMp49K"
      }
    },
    {
      "cell_type": "code",
      "execution_count": null,
      "metadata": {
        "id": "gOol77RGm-mi"
      },
      "outputs": [],
      "source": []
    },
    {
      "cell_type": "markdown",
      "source": [
        "6.1.2) 2ª consulta:\n",
        "\n"
      ],
      "metadata": {
        "id": "cGQoDE11p5Ev"
      }
    },
    {
      "cell_type": "code",
      "source": [],
      "metadata": {
        "id": "CnpzQScwqgus"
      },
      "execution_count": null,
      "outputs": []
    },
    {
      "cell_type": "markdown",
      "source": [
        "6.2) Três consultas envolvendo junção de duas relações:"
      ],
      "metadata": {
        "id": "PHPwVJIsqkVu"
      }
    },
    {
      "cell_type": "markdown",
      "source": [
        "6.2.1) 1ª consulta:\n",
        "\n"
      ],
      "metadata": {
        "id": "bBD_oNCZrQkk"
      }
    },
    {
      "cell_type": "code",
      "source": [],
      "metadata": {
        "id": "k6pWcJvPrjLo"
      },
      "execution_count": null,
      "outputs": []
    },
    {
      "cell_type": "markdown",
      "source": [
        "6.2.2) 2ª consulta:\n",
        "\n"
      ],
      "metadata": {
        "id": "zjYQi-kZrQrJ"
      }
    },
    {
      "cell_type": "code",
      "source": [],
      "metadata": {
        "id": "s9pvyQfOrjt6"
      },
      "execution_count": null,
      "outputs": []
    },
    {
      "cell_type": "markdown",
      "source": [
        "6.2.3) 3ª consulta:\n",
        "\n"
      ],
      "metadata": {
        "id": "VNrTQ-x-rQwj"
      }
    },
    {
      "cell_type": "code",
      "source": [],
      "metadata": {
        "id": "SihGacCmrkaz"
      },
      "execution_count": null,
      "outputs": []
    },
    {
      "cell_type": "markdown",
      "source": [
        "6.3) Três consultas envolvendo junção de três ou mais relações:"
      ],
      "metadata": {
        "id": "b_mQ-5B5rYKi"
      }
    },
    {
      "cell_type": "markdown",
      "source": [
        "6.3.1) 1ª consulta:"
      ],
      "metadata": {
        "id": "qFKLJ2q0r3y_"
      }
    },
    {
      "cell_type": "code",
      "source": [],
      "metadata": {
        "id": "HYRzABwCsExp"
      },
      "execution_count": null,
      "outputs": []
    },
    {
      "cell_type": "markdown",
      "source": [
        "6.3.2) 2ª consulta:"
      ],
      "metadata": {
        "id": "-zjGK8ktsFSI"
      }
    },
    {
      "cell_type": "code",
      "source": [],
      "metadata": {
        "id": "UMK1tUvZsGpg"
      },
      "execution_count": null,
      "outputs": []
    },
    {
      "cell_type": "markdown",
      "source": [
        "6.3.3) 3ª consulta:"
      ],
      "metadata": {
        "id": "wdsG2pIEsGz4"
      }
    },
    {
      "cell_type": "code",
      "source": [],
      "metadata": {
        "id": "GJnCq6B0sIRA"
      },
      "execution_count": null,
      "outputs": []
    },
    {
      "cell_type": "markdown",
      "source": [
        "6.4) Duas consultas envolvendo agregação sobre junção de duas ou mais relações:"
      ],
      "metadata": {
        "id": "GZxw4jgUsIbt"
      }
    },
    {
      "cell_type": "code",
      "source": [],
      "metadata": {
        "id": "XALbrc3HsKu7"
      },
      "execution_count": null,
      "outputs": []
    },
    {
      "cell_type": "markdown",
      "source": [
        "6.4.1) 1ª consulta:"
      ],
      "metadata": {
        "id": "OwiZEEGRsK3P"
      }
    },
    {
      "cell_type": "code",
      "source": [],
      "metadata": {
        "id": "F4QiZn8NsMAz"
      },
      "execution_count": null,
      "outputs": []
    },
    {
      "cell_type": "markdown",
      "source": [
        "6.4.2) 2ª consulta:"
      ],
      "metadata": {
        "id": "W5u7izcLsMJA"
      }
    },
    {
      "cell_type": "code",
      "source": [],
      "metadata": {
        "id": "IgQQvg5RsM91"
      },
      "execution_count": null,
      "outputs": []
    }
  ]
}