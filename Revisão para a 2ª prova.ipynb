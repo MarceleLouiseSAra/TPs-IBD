{
 "cells": [
  {
   "cell_type": "code",
   "execution_count": 1,
   "id": "48a4b3ab-e986-47f6-9d3f-f0c52a3f9404",
   "metadata": {},
   "outputs": [],
   "source": [
    "# importando bibliotecas\n",
    "\n",
    "import pandas as pd\n",
    "import sqlite3"
   ]
  },
  {
   "cell_type": "code",
   "execution_count": 2,
   "id": "c3a0d10f-8c3b-4dad-8419-7a33b41b3f64",
   "metadata": {},
   "outputs": [],
   "source": [
    "cnn = sqlite3.connect(\"revisao.db\")"
   ]
  },
  {
   "cell_type": "code",
   "execution_count": 3,
   "id": "972d9344-0e97-4d56-adf9-ff57ad26d227",
   "metadata": {},
   "outputs": [],
   "source": [
    "%load_ext sql"
   ]
  },
  {
   "cell_type": "code",
   "execution_count": 4,
   "id": "f5ed72e3-4c1e-4167-8d0e-d4dc1ec138a9",
   "metadata": {},
   "outputs": [],
   "source": [
    "%reload_ext sql"
   ]
  },
  {
   "cell_type": "code",
   "execution_count": 5,
   "id": "28e7fc7b-45ae-48aa-b00c-5008bfc40c12",
   "metadata": {},
   "outputs": [],
   "source": [
    "%sql sqlite:///revisao.db"
   ]
  },
  {
   "cell_type": "code",
   "execution_count": 6,
   "id": "2c21b0f9-0afd-49cf-a35c-df2b59884b1a",
   "metadata": {},
   "outputs": [
    {
     "name": "stdout",
     "output_type": "stream",
     "text": [
      " * sqlite:///revisao.db\n"
     ]
    }
   ],
   "source": [
    "%sql"
   ]
  },
  {
   "cell_type": "code",
   "execution_count": 7,
   "id": "0399ae88-5600-46e8-8a2f-0a39954b0bac",
   "metadata": {},
   "outputs": [],
   "source": [
    "%config SqlMagic.style = '_DEPRECATED_DEFAULT'"
   ]
  },
  {
   "cell_type": "code",
   "execution_count": 8,
   "id": "631ac954-d27e-4817-b5d9-5ff87bbc9e18",
   "metadata": {},
   "outputs": [
    {
     "name": "stdout",
     "output_type": "stream",
     "text": [
      " * sqlite:///revisao.db\n",
      "Done.\n"
     ]
    },
    {
     "data": {
      "text/plain": [
       "[]"
      ]
     },
     "execution_count": 8,
     "metadata": {},
     "output_type": "execute_result"
    }
   ],
   "source": [
    "%%sql\n",
    "\n",
    "CREATE TABLE IF NOT EXISTS Artistas (\n",
    "    idArtista INTEGER PRIMARY KEY AUTOINCREMENT,\n",
    "    nome TEXT\n",
    ");"
   ]
  },
  {
   "cell_type": "code",
   "execution_count": 9,
   "id": "cf1112a6-5f91-4648-92bf-29bb2af83671",
   "metadata": {},
   "outputs": [
    {
     "name": "stdout",
     "output_type": "stream",
     "text": [
      " * sqlite:///revisao.db\n",
      "Done.\n"
     ]
    },
    {
     "data": {
      "text/plain": [
       "[]"
      ]
     },
     "execution_count": 9,
     "metadata": {},
     "output_type": "execute_result"
    }
   ],
   "source": [
    "%%sql\n",
    "\n",
    "CREATE TABLE IF NOT EXISTS Albuns (\n",
    "    idAlbum INTEGER PRIMARY KEY AUTOINCREMENT,\n",
    "    titulo TEXT,\n",
    "    genero TEXT,\n",
    "    artista INTEGER,\n",
    "    FOREIGN KEY (artista) REFERENCES Artistas (id)\n",
    ");"
   ]
  },
  {
   "cell_type": "code",
   "execution_count": 10,
   "id": "52f600f4-0eb7-47d9-af63-6fba4bb2bbbc",
   "metadata": {},
   "outputs": [
    {
     "name": "stdout",
     "output_type": "stream",
     "text": [
      " * sqlite:///revisao.db\n",
      "Done.\n"
     ]
    },
    {
     "data": {
      "text/plain": [
       "[]"
      ]
     },
     "execution_count": 10,
     "metadata": {},
     "output_type": "execute_result"
    }
   ],
   "source": [
    "%%sql\n",
    "\n",
    "CREATE TABLE IF NOT EXISTS Musicas (\n",
    "    idMusica INTEGER PRIMARY KEY AUTOINCREMENT,\n",
    "    titulo TEXT,\n",
    "    genero TEXT,\n",
    "    album INTEGER,\n",
    "    artista INTEGER,\n",
    "    FOREIGN KEY (album) REFERENCES Albuns (id),\n",
    "    FOREIGN KEY (artista) REFERENCES Artistas (id)\n",
    ");"
   ]
  },
  {
   "cell_type": "code",
   "execution_count": 11,
   "id": "64f75806-ce63-4aa2-9bbd-2a99d215a9f3",
   "metadata": {},
   "outputs": [
    {
     "name": "stdout",
     "output_type": "stream",
     "text": [
      " * sqlite:///revisao.db\n",
      "4 rows affected.\n"
     ]
    },
    {
     "data": {
      "text/plain": [
       "[]"
      ]
     },
     "execution_count": 11,
     "metadata": {},
     "output_type": "execute_result"
    }
   ],
   "source": [
    "%%sql \n",
    "\n",
    "INSERT INTO Artistas(nome) VALUES (\"Taylor Swift\"), (\"Sabrina Carpenter\"), (\"Phoebe Bridgers\"), (\"Olivia Rodrigo\");"
   ]
  },
  {
   "cell_type": "code",
   "execution_count": 12,
   "id": "f9a1617c-bb32-47fe-8dd3-45f8a45df2f1",
   "metadata": {},
   "outputs": [
    {
     "name": "stdout",
     "output_type": "stream",
     "text": [
      " * sqlite:///revisao.db\n",
      "7 rows affected.\n"
     ]
    },
    {
     "data": {
      "text/plain": [
       "[]"
      ]
     },
     "execution_count": 12,
     "metadata": {},
     "output_type": "execute_result"
    }
   ],
   "source": [
    "%%sql\n",
    "\n",
    "INSERT INTO Albuns (titulo, genero, artista) VALUES (\"Fearless\", \"Country\", 1),\n",
    "                                                    (\"The Tortured Poets Department\", \"Pop indie\", 1),\n",
    "                                                    (\"Evermore\", \"Folk indie\", 1),\n",
    "                                                    (\"GUTS\", \"Pop\", 4),\n",
    "                                                    (\"emails I can't send\", \"Pop\", 2),\n",
    "                                                    (\"Punisher\", \"indie\", 3),\n",
    "                                                    (\"Folklore\", \"indie\", 1);"
   ]
  },
  {
   "cell_type": "code",
   "execution_count": 27,
   "id": "1909cd88-3189-491e-8fdd-a5e008ee854c",
   "metadata": {},
   "outputs": [
    {
     "name": "stdout",
     "output_type": "stream",
     "text": [
      " * sqlite:///revisao.db\n",
      "9 rows affected.\n"
     ]
    },
    {
     "data": {
      "text/plain": [
       "[]"
      ]
     },
     "execution_count": 27,
     "metadata": {},
     "output_type": "execute_result"
    }
   ],
   "source": [
    "%%sql\n",
    "\n",
    "INSERT INTO Musicas (titulo, genero, album, artista) VALUES (\"Fearless\", \"Country\", 1, 1),\n",
    "                                                            (\"The Black Dog\", \"Pop indie\", 2, 1),\n",
    "                                                            (\"I Don't Wanna Live Forever\", \"Pop\", 0, 1),\n",
    "                                                            (\"The Prophecy\", \"Pop indie\", 2, 1),\n",
    "                                                            (\"I Know The End\", \"indie\", 6, 3),\n",
    "                                                            (\"The Ballad of a Homeschooled Girl\", \"Pop\", 4, 4),\n",
    "                                                            (\"Bad for Business\", \"Pop\", 5, 2),\n",
    "                                                            (\"So American\", \"Pop\", 4, 4),\n",
    "                                                            (\"making the bed\", \"Pop\", 4, 4);"
   ]
  },
  {
   "cell_type": "code",
   "execution_count": 33,
   "id": "88d4fed8-4fb0-40ad-80ff-cd83a277259b",
   "metadata": {},
   "outputs": [
    {
     "name": "stdout",
     "output_type": "stream",
     "text": [
      " * sqlite:///revisao.db\n",
      "Done.\n"
     ]
    },
    {
     "data": {
      "text/html": [
       "<table>\n",
       "    <thead>\n",
       "        <tr>\n",
       "            <th>idMusica</th>\n",
       "            <th>titulo</th>\n",
       "            <th>genero</th>\n",
       "            <th>album</th>\n",
       "            <th>artista</th>\n",
       "        </tr>\n",
       "    </thead>\n",
       "    <tbody>\n",
       "        <tr>\n",
       "            <td>1</td>\n",
       "            <td>Fearless</td>\n",
       "            <td>Country</td>\n",
       "            <td>1</td>\n",
       "            <td>1</td>\n",
       "        </tr>\n",
       "        <tr>\n",
       "            <td>2</td>\n",
       "            <td>The Black Dog</td>\n",
       "            <td>Pop indie</td>\n",
       "            <td>2</td>\n",
       "            <td>1</td>\n",
       "        </tr>\n",
       "        <tr>\n",
       "            <td>3</td>\n",
       "            <td>I Don&#x27;t Wanna Live Forever</td>\n",
       "            <td>Pop</td>\n",
       "            <td>NULL</td>\n",
       "            <td>1</td>\n",
       "        </tr>\n",
       "        <tr>\n",
       "            <td>4</td>\n",
       "            <td>The Prophecy</td>\n",
       "            <td>Pop indie</td>\n",
       "            <td>2</td>\n",
       "            <td>1</td>\n",
       "        </tr>\n",
       "        <tr>\n",
       "            <td>5</td>\n",
       "            <td>I Know The End</td>\n",
       "            <td>indie</td>\n",
       "            <td>6</td>\n",
       "            <td>3</td>\n",
       "        </tr>\n",
       "        <tr>\n",
       "            <td>6</td>\n",
       "            <td>The Ballad of a Homeschooled Girl</td>\n",
       "            <td>Pop</td>\n",
       "            <td>4</td>\n",
       "            <td>4</td>\n",
       "        </tr>\n",
       "        <tr>\n",
       "            <td>7</td>\n",
       "            <td>Bad for Business</td>\n",
       "            <td>Pop</td>\n",
       "            <td>5</td>\n",
       "            <td>2</td>\n",
       "        </tr>\n",
       "        <tr>\n",
       "            <td>8</td>\n",
       "            <td>So American</td>\n",
       "            <td>Pop</td>\n",
       "            <td>4</td>\n",
       "            <td>4</td>\n",
       "        </tr>\n",
       "        <tr>\n",
       "            <td>9</td>\n",
       "            <td>making the bed</td>\n",
       "            <td>Pop</td>\n",
       "            <td>4</td>\n",
       "            <td>4</td>\n",
       "        </tr>\n",
       "    </tbody>\n",
       "</table>"
      ],
      "text/plain": [
       "[(1, 'Fearless', 'Country', 1, 1),\n",
       " (2, 'The Black Dog', 'Pop indie', 2, 1),\n",
       " (3, \"I Don't Wanna Live Forever\", 'Pop', 'NULL', 1),\n",
       " (4, 'The Prophecy', 'Pop indie', 2, 1),\n",
       " (5, 'I Know The End', 'indie', 6, 3),\n",
       " (6, 'The Ballad of a Homeschooled Girl', 'Pop', 4, 4),\n",
       " (7, 'Bad for Business', 'Pop', 5, 2),\n",
       " (8, 'So American', 'Pop', 4, 4),\n",
       " (9, 'making the bed', 'Pop', 4, 4)]"
      ]
     },
     "execution_count": 33,
     "metadata": {},
     "output_type": "execute_result"
    }
   ],
   "source": [
    "%sql SELECT * FROM Musicas"
   ]
  },
  {
   "cell_type": "code",
   "execution_count": 37,
   "id": "fe3ff9bc-2cf2-4913-be8b-03fcf8a2a9d5",
   "metadata": {},
   "outputs": [
    {
     "name": "stdout",
     "output_type": "stream",
     "text": [
      " * sqlite:///revisao.db\n",
      "1 rows affected.\n"
     ]
    },
    {
     "data": {
      "text/plain": [
       "[]"
      ]
     },
     "execution_count": 37,
     "metadata": {},
     "output_type": "execute_result"
    }
   ],
   "source": [
    "%sql UPDATE Musicas SET album=NULL WHERE idMusica=3"
   ]
  },
  {
   "cell_type": "code",
   "execution_count": 15,
   "id": "06e2ee7c-4046-422e-b1b3-48c19b2a6aa7",
   "metadata": {},
   "outputs": [
    {
     "name": "stdout",
     "output_type": "stream",
     "text": [
      " * sqlite:///revisao.db\n",
      "0 rows affected.\n"
     ]
    },
    {
     "data": {
      "text/plain": [
       "[]"
      ]
     },
     "execution_count": 15,
     "metadata": {},
     "output_type": "execute_result"
    }
   ],
   "source": [
    "%sql UPDATE Musicas SET titulo=\"ballad of a homeschooled girl\" WHERE idMusica=5"
   ]
  },
  {
   "cell_type": "code",
   "execution_count": 16,
   "id": "1cf0d844-8044-4d65-8a78-ba6cc8380fd9",
   "metadata": {},
   "outputs": [
    {
     "name": "stdout",
     "output_type": "stream",
     "text": [
      " * sqlite:///revisao.db\n",
      "Done.\n"
     ]
    },
    {
     "data": {
      "text/html": [
       "<table>\n",
       "    <thead>\n",
       "        <tr>\n",
       "            <th>idMusica</th>\n",
       "            <th>titulo</th>\n",
       "            <th>genero</th>\n",
       "            <th>album</th>\n",
       "            <th>artista</th>\n",
       "        </tr>\n",
       "    </thead>\n",
       "    <tbody>\n",
       "    </tbody>\n",
       "</table>"
      ],
      "text/plain": [
       "[]"
      ]
     },
     "execution_count": 16,
     "metadata": {},
     "output_type": "execute_result"
    }
   ],
   "source": [
    "%sql SELECT * FROM Musicas"
   ]
  },
  {
   "cell_type": "markdown",
   "id": "7b867bce-64f2-47c1-90a4-8d4d8a6919ea",
   "metadata": {},
   "source": [
    "Produto cartesiano entre Artistas e Albuns:"
   ]
  },
  {
   "cell_type": "code",
   "execution_count": 56,
   "id": "247089ba-e880-4b8e-8034-aa314f386dfc",
   "metadata": {},
   "outputs": [
    {
     "name": "stdout",
     "output_type": "stream",
     "text": [
      " * sqlite:///revisao.db\n",
      "Done.\n"
     ]
    },
    {
     "data": {
      "text/html": [
       "<table>\n",
       "    <thead>\n",
       "        <tr>\n",
       "            <th>idArtista</th>\n",
       "            <th>nome</th>\n",
       "            <th>idAlbum</th>\n",
       "            <th>titulo</th>\n",
       "            <th>genero</th>\n",
       "            <th>artista</th>\n",
       "        </tr>\n",
       "    </thead>\n",
       "    <tbody>\n",
       "        <tr>\n",
       "            <td>1</td>\n",
       "            <td>Taylor Swift</td>\n",
       "            <td>1</td>\n",
       "            <td>Fearless</td>\n",
       "            <td>Country</td>\n",
       "            <td>1</td>\n",
       "        </tr>\n",
       "        <tr>\n",
       "            <td>1</td>\n",
       "            <td>Taylor Swift</td>\n",
       "            <td>2</td>\n",
       "            <td>The Tortured Poets Department</td>\n",
       "            <td>Pop indie</td>\n",
       "            <td>1</td>\n",
       "        </tr>\n",
       "        <tr>\n",
       "            <td>1</td>\n",
       "            <td>Taylor Swift</td>\n",
       "            <td>3</td>\n",
       "            <td>Evermore</td>\n",
       "            <td>Folk indie</td>\n",
       "            <td>1</td>\n",
       "        </tr>\n",
       "        <tr>\n",
       "            <td>1</td>\n",
       "            <td>Taylor Swift</td>\n",
       "            <td>4</td>\n",
       "            <td>GUTS</td>\n",
       "            <td>Pop</td>\n",
       "            <td>4</td>\n",
       "        </tr>\n",
       "        <tr>\n",
       "            <td>1</td>\n",
       "            <td>Taylor Swift</td>\n",
       "            <td>5</td>\n",
       "            <td>emails I can&#x27;t send</td>\n",
       "            <td>Pop</td>\n",
       "            <td>2</td>\n",
       "        </tr>\n",
       "        <tr>\n",
       "            <td>1</td>\n",
       "            <td>Taylor Swift</td>\n",
       "            <td>6</td>\n",
       "            <td>Punisher</td>\n",
       "            <td>indie</td>\n",
       "            <td>3</td>\n",
       "        </tr>\n",
       "        <tr>\n",
       "            <td>1</td>\n",
       "            <td>Taylor Swift</td>\n",
       "            <td>7</td>\n",
       "            <td>Folklore</td>\n",
       "            <td>indie</td>\n",
       "            <td>1</td>\n",
       "        </tr>\n",
       "        <tr>\n",
       "            <td>2</td>\n",
       "            <td>Sabrina Carpenter</td>\n",
       "            <td>1</td>\n",
       "            <td>Fearless</td>\n",
       "            <td>Country</td>\n",
       "            <td>1</td>\n",
       "        </tr>\n",
       "        <tr>\n",
       "            <td>2</td>\n",
       "            <td>Sabrina Carpenter</td>\n",
       "            <td>2</td>\n",
       "            <td>The Tortured Poets Department</td>\n",
       "            <td>Pop indie</td>\n",
       "            <td>1</td>\n",
       "        </tr>\n",
       "        <tr>\n",
       "            <td>2</td>\n",
       "            <td>Sabrina Carpenter</td>\n",
       "            <td>3</td>\n",
       "            <td>Evermore</td>\n",
       "            <td>Folk indie</td>\n",
       "            <td>1</td>\n",
       "        </tr>\n",
       "        <tr>\n",
       "            <td>2</td>\n",
       "            <td>Sabrina Carpenter</td>\n",
       "            <td>4</td>\n",
       "            <td>GUTS</td>\n",
       "            <td>Pop</td>\n",
       "            <td>4</td>\n",
       "        </tr>\n",
       "        <tr>\n",
       "            <td>2</td>\n",
       "            <td>Sabrina Carpenter</td>\n",
       "            <td>5</td>\n",
       "            <td>emails I can&#x27;t send</td>\n",
       "            <td>Pop</td>\n",
       "            <td>2</td>\n",
       "        </tr>\n",
       "        <tr>\n",
       "            <td>2</td>\n",
       "            <td>Sabrina Carpenter</td>\n",
       "            <td>6</td>\n",
       "            <td>Punisher</td>\n",
       "            <td>indie</td>\n",
       "            <td>3</td>\n",
       "        </tr>\n",
       "        <tr>\n",
       "            <td>2</td>\n",
       "            <td>Sabrina Carpenter</td>\n",
       "            <td>7</td>\n",
       "            <td>Folklore</td>\n",
       "            <td>indie</td>\n",
       "            <td>1</td>\n",
       "        </tr>\n",
       "        <tr>\n",
       "            <td>3</td>\n",
       "            <td>Phoebe Bridgers</td>\n",
       "            <td>1</td>\n",
       "            <td>Fearless</td>\n",
       "            <td>Country</td>\n",
       "            <td>1</td>\n",
       "        </tr>\n",
       "        <tr>\n",
       "            <td>3</td>\n",
       "            <td>Phoebe Bridgers</td>\n",
       "            <td>2</td>\n",
       "            <td>The Tortured Poets Department</td>\n",
       "            <td>Pop indie</td>\n",
       "            <td>1</td>\n",
       "        </tr>\n",
       "        <tr>\n",
       "            <td>3</td>\n",
       "            <td>Phoebe Bridgers</td>\n",
       "            <td>3</td>\n",
       "            <td>Evermore</td>\n",
       "            <td>Folk indie</td>\n",
       "            <td>1</td>\n",
       "        </tr>\n",
       "        <tr>\n",
       "            <td>3</td>\n",
       "            <td>Phoebe Bridgers</td>\n",
       "            <td>4</td>\n",
       "            <td>GUTS</td>\n",
       "            <td>Pop</td>\n",
       "            <td>4</td>\n",
       "        </tr>\n",
       "        <tr>\n",
       "            <td>3</td>\n",
       "            <td>Phoebe Bridgers</td>\n",
       "            <td>5</td>\n",
       "            <td>emails I can&#x27;t send</td>\n",
       "            <td>Pop</td>\n",
       "            <td>2</td>\n",
       "        </tr>\n",
       "        <tr>\n",
       "            <td>3</td>\n",
       "            <td>Phoebe Bridgers</td>\n",
       "            <td>6</td>\n",
       "            <td>Punisher</td>\n",
       "            <td>indie</td>\n",
       "            <td>3</td>\n",
       "        </tr>\n",
       "        <tr>\n",
       "            <td>3</td>\n",
       "            <td>Phoebe Bridgers</td>\n",
       "            <td>7</td>\n",
       "            <td>Folklore</td>\n",
       "            <td>indie</td>\n",
       "            <td>1</td>\n",
       "        </tr>\n",
       "        <tr>\n",
       "            <td>4</td>\n",
       "            <td>Olivia Rodrigo</td>\n",
       "            <td>1</td>\n",
       "            <td>Fearless</td>\n",
       "            <td>Country</td>\n",
       "            <td>1</td>\n",
       "        </tr>\n",
       "        <tr>\n",
       "            <td>4</td>\n",
       "            <td>Olivia Rodrigo</td>\n",
       "            <td>2</td>\n",
       "            <td>The Tortured Poets Department</td>\n",
       "            <td>Pop indie</td>\n",
       "            <td>1</td>\n",
       "        </tr>\n",
       "        <tr>\n",
       "            <td>4</td>\n",
       "            <td>Olivia Rodrigo</td>\n",
       "            <td>3</td>\n",
       "            <td>Evermore</td>\n",
       "            <td>Folk indie</td>\n",
       "            <td>1</td>\n",
       "        </tr>\n",
       "        <tr>\n",
       "            <td>4</td>\n",
       "            <td>Olivia Rodrigo</td>\n",
       "            <td>4</td>\n",
       "            <td>GUTS</td>\n",
       "            <td>Pop</td>\n",
       "            <td>4</td>\n",
       "        </tr>\n",
       "        <tr>\n",
       "            <td>4</td>\n",
       "            <td>Olivia Rodrigo</td>\n",
       "            <td>5</td>\n",
       "            <td>emails I can&#x27;t send</td>\n",
       "            <td>Pop</td>\n",
       "            <td>2</td>\n",
       "        </tr>\n",
       "        <tr>\n",
       "            <td>4</td>\n",
       "            <td>Olivia Rodrigo</td>\n",
       "            <td>6</td>\n",
       "            <td>Punisher</td>\n",
       "            <td>indie</td>\n",
       "            <td>3</td>\n",
       "        </tr>\n",
       "        <tr>\n",
       "            <td>4</td>\n",
       "            <td>Olivia Rodrigo</td>\n",
       "            <td>7</td>\n",
       "            <td>Folklore</td>\n",
       "            <td>indie</td>\n",
       "            <td>1</td>\n",
       "        </tr>\n",
       "    </tbody>\n",
       "</table>"
      ],
      "text/plain": [
       "[(1, 'Taylor Swift', 1, 'Fearless', 'Country', 1),\n",
       " (1, 'Taylor Swift', 2, 'The Tortured Poets Department', 'Pop indie', 1),\n",
       " (1, 'Taylor Swift', 3, 'Evermore', 'Folk indie', 1),\n",
       " (1, 'Taylor Swift', 4, 'GUTS', 'Pop', 4),\n",
       " (1, 'Taylor Swift', 5, \"emails I can't send\", 'Pop', 2),\n",
       " (1, 'Taylor Swift', 6, 'Punisher', 'indie', 3),\n",
       " (1, 'Taylor Swift', 7, 'Folklore', 'indie', 1),\n",
       " (2, 'Sabrina Carpenter', 1, 'Fearless', 'Country', 1),\n",
       " (2, 'Sabrina Carpenter', 2, 'The Tortured Poets Department', 'Pop indie', 1),\n",
       " (2, 'Sabrina Carpenter', 3, 'Evermore', 'Folk indie', 1),\n",
       " (2, 'Sabrina Carpenter', 4, 'GUTS', 'Pop', 4),\n",
       " (2, 'Sabrina Carpenter', 5, \"emails I can't send\", 'Pop', 2),\n",
       " (2, 'Sabrina Carpenter', 6, 'Punisher', 'indie', 3),\n",
       " (2, 'Sabrina Carpenter', 7, 'Folklore', 'indie', 1),\n",
       " (3, 'Phoebe Bridgers', 1, 'Fearless', 'Country', 1),\n",
       " (3, 'Phoebe Bridgers', 2, 'The Tortured Poets Department', 'Pop indie', 1),\n",
       " (3, 'Phoebe Bridgers', 3, 'Evermore', 'Folk indie', 1),\n",
       " (3, 'Phoebe Bridgers', 4, 'GUTS', 'Pop', 4),\n",
       " (3, 'Phoebe Bridgers', 5, \"emails I can't send\", 'Pop', 2),\n",
       " (3, 'Phoebe Bridgers', 6, 'Punisher', 'indie', 3),\n",
       " (3, 'Phoebe Bridgers', 7, 'Folklore', 'indie', 1),\n",
       " (4, 'Olivia Rodrigo', 1, 'Fearless', 'Country', 1),\n",
       " (4, 'Olivia Rodrigo', 2, 'The Tortured Poets Department', 'Pop indie', 1),\n",
       " (4, 'Olivia Rodrigo', 3, 'Evermore', 'Folk indie', 1),\n",
       " (4, 'Olivia Rodrigo', 4, 'GUTS', 'Pop', 4),\n",
       " (4, 'Olivia Rodrigo', 5, \"emails I can't send\", 'Pop', 2),\n",
       " (4, 'Olivia Rodrigo', 6, 'Punisher', 'indie', 3),\n",
       " (4, 'Olivia Rodrigo', 7, 'Folklore', 'indie', 1)]"
      ]
     },
     "execution_count": 56,
     "metadata": {},
     "output_type": "execute_result"
    }
   ],
   "source": [
    "%sql SELECT * FROM Artistas, Albuns"
   ]
  },
  {
   "cell_type": "markdown",
   "id": "2ee6d6fd-2ce2-4341-8f73-fdaa8892abb0",
   "metadata": {},
   "source": [
    "INNER JOIN: junção interna; com base na condição (B.artista = A.id), retorna SOMENTE as tuplas em que há correspondência."
   ]
  },
  {
   "cell_type": "code",
   "execution_count": 21,
   "id": "ea395c5c-ca7c-4997-ad03-198ddcf2609f",
   "metadata": {},
   "outputs": [
    {
     "name": "stdout",
     "output_type": "stream",
     "text": [
      " * sqlite:///revisao.db\n",
      "Done.\n"
     ]
    },
    {
     "data": {
      "text/html": [
       "<table>\n",
       "    <thead>\n",
       "        <tr>\n",
       "            <th>idAlbum</th>\n",
       "            <th>titulo</th>\n",
       "            <th>genero</th>\n",
       "            <th>artista</th>\n",
       "            <th>idArtista</th>\n",
       "            <th>nome</th>\n",
       "        </tr>\n",
       "    </thead>\n",
       "    <tbody>\n",
       "        <tr>\n",
       "            <td>1</td>\n",
       "            <td>Fearless</td>\n",
       "            <td>Country</td>\n",
       "            <td>1</td>\n",
       "            <td>1</td>\n",
       "            <td>Taylor Swift</td>\n",
       "        </tr>\n",
       "        <tr>\n",
       "            <td>2</td>\n",
       "            <td>The Tortured Poets Department</td>\n",
       "            <td>Pop indie</td>\n",
       "            <td>1</td>\n",
       "            <td>1</td>\n",
       "            <td>Taylor Swift</td>\n",
       "        </tr>\n",
       "        <tr>\n",
       "            <td>3</td>\n",
       "            <td>Evermore</td>\n",
       "            <td>Folk indie</td>\n",
       "            <td>1</td>\n",
       "            <td>1</td>\n",
       "            <td>Taylor Swift</td>\n",
       "        </tr>\n",
       "        <tr>\n",
       "            <td>4</td>\n",
       "            <td>GUTS</td>\n",
       "            <td>Pop</td>\n",
       "            <td>4</td>\n",
       "            <td>4</td>\n",
       "            <td>Olivia Rodrigo</td>\n",
       "        </tr>\n",
       "        <tr>\n",
       "            <td>5</td>\n",
       "            <td>emails I cant&#x27;t send</td>\n",
       "            <td>Pop</td>\n",
       "            <td>2</td>\n",
       "            <td>2</td>\n",
       "            <td>Sabrina Carpenter</td>\n",
       "        </tr>\n",
       "        <tr>\n",
       "            <td>6</td>\n",
       "            <td>Punisher</td>\n",
       "            <td>indie</td>\n",
       "            <td>3</td>\n",
       "            <td>3</td>\n",
       "            <td>Phoebe Bridgers</td>\n",
       "        </tr>\n",
       "        <tr>\n",
       "            <td>7</td>\n",
       "            <td>Folklore</td>\n",
       "            <td>indie</td>\n",
       "            <td>1</td>\n",
       "            <td>1</td>\n",
       "            <td>Taylor Swift</td>\n",
       "        </tr>\n",
       "    </tbody>\n",
       "</table>"
      ],
      "text/plain": [
       "[(1, 'Fearless', 'Country', 1, 1, 'Taylor Swift'),\n",
       " (2, 'The Tortured Poets Department', 'Pop indie', 1, 1, 'Taylor Swift'),\n",
       " (3, 'Evermore', 'Folk indie', 1, 1, 'Taylor Swift'),\n",
       " (4, 'GUTS', 'Pop', 4, 4, 'Olivia Rodrigo'),\n",
       " (5, \"emails I cant't send\", 'Pop', 2, 2, 'Sabrina Carpenter'),\n",
       " (6, 'Punisher', 'indie', 3, 3, 'Phoebe Bridgers'),\n",
       " (7, 'Folklore', 'indie', 1, 1, 'Taylor Swift')]"
      ]
     },
     "execution_count": 21,
     "metadata": {},
     "output_type": "execute_result"
    }
   ],
   "source": [
    "%sql SELECT * FROM Albuns AS B INNER JOIN Artistas AS A ON B.artista = A.idArtista"
   ]
  },
  {
   "cell_type": "code",
   "execution_count": 22,
   "id": "d9e73f3b-2dcf-4a49-825b-69dff3c9d917",
   "metadata": {},
   "outputs": [
    {
     "name": "stdout",
     "output_type": "stream",
     "text": [
      " * sqlite:///revisao.db\n",
      "Done.\n"
     ]
    },
    {
     "data": {
      "text/html": [
       "<table>\n",
       "    <thead>\n",
       "        <tr>\n",
       "            <th>idAlbum</th>\n",
       "            <th>titulo</th>\n",
       "            <th>genero</th>\n",
       "            <th>artista</th>\n",
       "            <th>idArtista</th>\n",
       "            <th>nome</th>\n",
       "        </tr>\n",
       "    </thead>\n",
       "    <tbody>\n",
       "        <tr>\n",
       "            <td>1</td>\n",
       "            <td>Fearless</td>\n",
       "            <td>Country</td>\n",
       "            <td>1</td>\n",
       "            <td>1</td>\n",
       "            <td>Taylor Swift</td>\n",
       "        </tr>\n",
       "        <tr>\n",
       "            <td>2</td>\n",
       "            <td>The Tortured Poets Department</td>\n",
       "            <td>Pop indie</td>\n",
       "            <td>1</td>\n",
       "            <td>1</td>\n",
       "            <td>Taylor Swift</td>\n",
       "        </tr>\n",
       "        <tr>\n",
       "            <td>3</td>\n",
       "            <td>Evermore</td>\n",
       "            <td>Folk indie</td>\n",
       "            <td>1</td>\n",
       "            <td>1</td>\n",
       "            <td>Taylor Swift</td>\n",
       "        </tr>\n",
       "        <tr>\n",
       "            <td>7</td>\n",
       "            <td>Folklore</td>\n",
       "            <td>indie</td>\n",
       "            <td>1</td>\n",
       "            <td>1</td>\n",
       "            <td>Taylor Swift</td>\n",
       "        </tr>\n",
       "    </tbody>\n",
       "</table>"
      ],
      "text/plain": [
       "[(1, 'Fearless', 'Country', 1, 1, 'Taylor Swift'),\n",
       " (2, 'The Tortured Poets Department', 'Pop indie', 1, 1, 'Taylor Swift'),\n",
       " (3, 'Evermore', 'Folk indie', 1, 1, 'Taylor Swift'),\n",
       " (7, 'Folklore', 'indie', 1, 1, 'Taylor Swift')]"
      ]
     },
     "execution_count": 22,
     "metadata": {},
     "output_type": "execute_result"
    }
   ],
   "source": [
    "%%sql\n",
    "\n",
    "SELECT * FROM Albuns AS A INNER JOIN Artistas AS B ON A.artista=B.idArtista AND B.idArtista=1;"
   ]
  },
  {
   "cell_type": "code",
   "execution_count": 23,
   "id": "75254fec-1cbe-4158-9d7b-046d66880e3f",
   "metadata": {},
   "outputs": [
    {
     "name": "stdout",
     "output_type": "stream",
     "text": [
      " * sqlite:///revisao.db\n",
      "Done.\n"
     ]
    },
    {
     "data": {
      "text/plain": [
       "[]"
      ]
     },
     "execution_count": 23,
     "metadata": {},
     "output_type": "execute_result"
    }
   ],
   "source": [
    "%%sql\n",
    "\n",
    "CREATE VIEW discografiaTaylor AS SELECT * FROM Albuns AS A INNER JOIN Artistas AS B WHERE A.artista=B.idArtista AND B.idArtista=1;"
   ]
  },
  {
   "cell_type": "code",
   "execution_count": 24,
   "id": "aee9d67a-393a-49e7-9f23-da85f57f1236",
   "metadata": {},
   "outputs": [
    {
     "name": "stdout",
     "output_type": "stream",
     "text": [
      " * sqlite:///revisao.db\n",
      "Done.\n"
     ]
    },
    {
     "data": {
      "text/html": [
       "<table>\n",
       "    <thead>\n",
       "        <tr>\n",
       "            <th>idAlbum</th>\n",
       "            <th>titulo</th>\n",
       "            <th>genero</th>\n",
       "            <th>artista</th>\n",
       "            <th>idArtista</th>\n",
       "            <th>nome</th>\n",
       "        </tr>\n",
       "    </thead>\n",
       "    <tbody>\n",
       "        <tr>\n",
       "            <td>1</td>\n",
       "            <td>Fearless</td>\n",
       "            <td>Country</td>\n",
       "            <td>1</td>\n",
       "            <td>1</td>\n",
       "            <td>Taylor Swift</td>\n",
       "        </tr>\n",
       "        <tr>\n",
       "            <td>2</td>\n",
       "            <td>The Tortured Poets Department</td>\n",
       "            <td>Pop indie</td>\n",
       "            <td>1</td>\n",
       "            <td>1</td>\n",
       "            <td>Taylor Swift</td>\n",
       "        </tr>\n",
       "        <tr>\n",
       "            <td>3</td>\n",
       "            <td>Evermore</td>\n",
       "            <td>Folk indie</td>\n",
       "            <td>1</td>\n",
       "            <td>1</td>\n",
       "            <td>Taylor Swift</td>\n",
       "        </tr>\n",
       "        <tr>\n",
       "            <td>7</td>\n",
       "            <td>Folklore</td>\n",
       "            <td>indie</td>\n",
       "            <td>1</td>\n",
       "            <td>1</td>\n",
       "            <td>Taylor Swift</td>\n",
       "        </tr>\n",
       "    </tbody>\n",
       "</table>"
      ],
      "text/plain": [
       "[(1, 'Fearless', 'Country', 1, 1, 'Taylor Swift'),\n",
       " (2, 'The Tortured Poets Department', 'Pop indie', 1, 1, 'Taylor Swift'),\n",
       " (3, 'Evermore', 'Folk indie', 1, 1, 'Taylor Swift'),\n",
       " (7, 'Folklore', 'indie', 1, 1, 'Taylor Swift')]"
      ]
     },
     "execution_count": 24,
     "metadata": {},
     "output_type": "execute_result"
    }
   ],
   "source": [
    "%sql SELECT * FROM discografiaTaylor"
   ]
  },
  {
   "cell_type": "code",
   "execution_count": 25,
   "id": "909866de-7dcb-4a66-b959-86a3c746da59",
   "metadata": {},
   "outputs": [
    {
     "name": "stdout",
     "output_type": "stream",
     "text": [
      " * sqlite:///revisao.db\n",
      "Done.\n"
     ]
    },
    {
     "data": {
      "text/html": [
       "<table>\n",
       "    <thead>\n",
       "        <tr>\n",
       "            <th>idAlbum</th>\n",
       "            <th>titulo</th>\n",
       "            <th>genero</th>\n",
       "            <th>artista</th>\n",
       "            <th>idArtista</th>\n",
       "            <th>nome</th>\n",
       "        </tr>\n",
       "    </thead>\n",
       "    <tbody>\n",
       "        <tr>\n",
       "            <td>7</td>\n",
       "            <td>Folklore</td>\n",
       "            <td>indie</td>\n",
       "            <td>1</td>\n",
       "            <td>1</td>\n",
       "            <td>Taylor Swift</td>\n",
       "        </tr>\n",
       "    </tbody>\n",
       "</table>"
      ],
      "text/plain": [
       "[(7, 'Folklore', 'indie', 1, 1, 'Taylor Swift')]"
      ]
     },
     "execution_count": 25,
     "metadata": {},
     "output_type": "execute_result"
    }
   ],
   "source": [
    "%sql SELECT * FROM discografiaTaylor WHERE genero=\"indie\""
   ]
  },
  {
   "cell_type": "code",
   "execution_count": 26,
   "id": "aa0a8ae2-e057-459c-88a8-0e1cd9db189b",
   "metadata": {},
   "outputs": [
    {
     "name": "stdout",
     "output_type": "stream",
     "text": [
      " * sqlite:///revisao.db\n",
      "Done.\n"
     ]
    },
    {
     "data": {
      "text/html": [
       "<table>\n",
       "    <thead>\n",
       "        <tr>\n",
       "            <th>idAlbum</th>\n",
       "            <th>titulo</th>\n",
       "            <th>genero</th>\n",
       "            <th>artista</th>\n",
       "            <th>idArtista</th>\n",
       "            <th>nome</th>\n",
       "        </tr>\n",
       "    </thead>\n",
       "    <tbody>\n",
       "        <tr>\n",
       "            <td>2</td>\n",
       "            <td>The Tortured Poets Department</td>\n",
       "            <td>Pop indie</td>\n",
       "            <td>1</td>\n",
       "            <td>1</td>\n",
       "            <td>Taylor Swift</td>\n",
       "        </tr>\n",
       "        <tr>\n",
       "            <td>3</td>\n",
       "            <td>Evermore</td>\n",
       "            <td>Folk indie</td>\n",
       "            <td>1</td>\n",
       "            <td>1</td>\n",
       "            <td>Taylor Swift</td>\n",
       "        </tr>\n",
       "        <tr>\n",
       "            <td>7</td>\n",
       "            <td>Folklore</td>\n",
       "            <td>indie</td>\n",
       "            <td>1</td>\n",
       "            <td>1</td>\n",
       "            <td>Taylor Swift</td>\n",
       "        </tr>\n",
       "    </tbody>\n",
       "</table>"
      ],
      "text/plain": [
       "[(2, 'The Tortured Poets Department', 'Pop indie', 1, 1, 'Taylor Swift'),\n",
       " (3, 'Evermore', 'Folk indie', 1, 1, 'Taylor Swift'),\n",
       " (7, 'Folklore', 'indie', 1, 1, 'Taylor Swift')]"
      ]
     },
     "execution_count": 26,
     "metadata": {},
     "output_type": "execute_result"
    }
   ],
   "source": [
    "%sql SELECT * FROM discografiaTaylor WHERE genero LIKE \"%indie%\""
   ]
  },
  {
   "cell_type": "code",
   "execution_count": 54,
   "id": "b42d486e-7277-4631-b1a9-ab7876bd3008",
   "metadata": {},
   "outputs": [
    {
     "name": "stdout",
     "output_type": "stream",
     "text": [
      " * sqlite:///revisao.db\n",
      "Done.\n"
     ]
    },
    {
     "data": {
      "text/html": [
       "<table>\n",
       "    <thead>\n",
       "        <tr>\n",
       "            <th>idMusica</th>\n",
       "            <th>titulo</th>\n",
       "            <th>genero</th>\n",
       "            <th>album</th>\n",
       "            <th>artista</th>\n",
       "            <th>idAlbum</th>\n",
       "            <th>titulo_1</th>\n",
       "            <th>genero_1</th>\n",
       "            <th>artista_1</th>\n",
       "        </tr>\n",
       "    </thead>\n",
       "    <tbody>\n",
       "        <tr>\n",
       "            <td>1</td>\n",
       "            <td>Fearless</td>\n",
       "            <td>Country</td>\n",
       "            <td>1</td>\n",
       "            <td>1</td>\n",
       "            <td>1</td>\n",
       "            <td>Fearless</td>\n",
       "            <td>Country</td>\n",
       "            <td>1</td>\n",
       "        </tr>\n",
       "        <tr>\n",
       "            <td>2</td>\n",
       "            <td>The Black Dog</td>\n",
       "            <td>Pop indie</td>\n",
       "            <td>2</td>\n",
       "            <td>1</td>\n",
       "            <td>2</td>\n",
       "            <td>The Tortured Poets Department</td>\n",
       "            <td>Pop indie</td>\n",
       "            <td>1</td>\n",
       "        </tr>\n",
       "        <tr>\n",
       "            <td>3</td>\n",
       "            <td>I Don&#x27;t Wanna Live Forever</td>\n",
       "            <td>Pop</td>\n",
       "            <td>None</td>\n",
       "            <td>1</td>\n",
       "            <td>None</td>\n",
       "            <td>None</td>\n",
       "            <td>None</td>\n",
       "            <td>None</td>\n",
       "        </tr>\n",
       "        <tr>\n",
       "            <td>4</td>\n",
       "            <td>The Prophecy</td>\n",
       "            <td>Pop indie</td>\n",
       "            <td>2</td>\n",
       "            <td>1</td>\n",
       "            <td>2</td>\n",
       "            <td>The Tortured Poets Department</td>\n",
       "            <td>Pop indie</td>\n",
       "            <td>1</td>\n",
       "        </tr>\n",
       "        <tr>\n",
       "            <td>5</td>\n",
       "            <td>I Know The End</td>\n",
       "            <td>indie</td>\n",
       "            <td>6</td>\n",
       "            <td>3</td>\n",
       "            <td>6</td>\n",
       "            <td>Punisher</td>\n",
       "            <td>indie</td>\n",
       "            <td>3</td>\n",
       "        </tr>\n",
       "        <tr>\n",
       "            <td>6</td>\n",
       "            <td>The Ballad of a Homeschooled Girl</td>\n",
       "            <td>Pop</td>\n",
       "            <td>4</td>\n",
       "            <td>4</td>\n",
       "            <td>4</td>\n",
       "            <td>GUTS</td>\n",
       "            <td>Pop</td>\n",
       "            <td>4</td>\n",
       "        </tr>\n",
       "        <tr>\n",
       "            <td>7</td>\n",
       "            <td>Bad for Business</td>\n",
       "            <td>Pop</td>\n",
       "            <td>5</td>\n",
       "            <td>2</td>\n",
       "            <td>5</td>\n",
       "            <td>emails I can&#x27;t send</td>\n",
       "            <td>Pop</td>\n",
       "            <td>2</td>\n",
       "        </tr>\n",
       "        <tr>\n",
       "            <td>8</td>\n",
       "            <td>So American</td>\n",
       "            <td>Pop</td>\n",
       "            <td>4</td>\n",
       "            <td>4</td>\n",
       "            <td>4</td>\n",
       "            <td>GUTS</td>\n",
       "            <td>Pop</td>\n",
       "            <td>4</td>\n",
       "        </tr>\n",
       "        <tr>\n",
       "            <td>9</td>\n",
       "            <td>making the bed</td>\n",
       "            <td>Pop</td>\n",
       "            <td>4</td>\n",
       "            <td>4</td>\n",
       "            <td>4</td>\n",
       "            <td>GUTS</td>\n",
       "            <td>Pop</td>\n",
       "            <td>4</td>\n",
       "        </tr>\n",
       "    </tbody>\n",
       "</table>"
      ],
      "text/plain": [
       "[(1, 'Fearless', 'Country', 1, 1, 1, 'Fearless', 'Country', 1),\n",
       " (2, 'The Black Dog', 'Pop indie', 2, 1, 2, 'The Tortured Poets Department', 'Pop indie', 1),\n",
       " (3, \"I Don't Wanna Live Forever\", 'Pop', None, 1, None, None, None, None),\n",
       " (4, 'The Prophecy', 'Pop indie', 2, 1, 2, 'The Tortured Poets Department', 'Pop indie', 1),\n",
       " (5, 'I Know The End', 'indie', 6, 3, 6, 'Punisher', 'indie', 3),\n",
       " (6, 'The Ballad of a Homeschooled Girl', 'Pop', 4, 4, 4, 'GUTS', 'Pop', 4),\n",
       " (7, 'Bad for Business', 'Pop', 5, 2, 5, \"emails I can't send\", 'Pop', 2),\n",
       " (8, 'So American', 'Pop', 4, 4, 4, 'GUTS', 'Pop', 4),\n",
       " (9, 'making the bed', 'Pop', 4, 4, 4, 'GUTS', 'Pop', 4)]"
      ]
     },
     "execution_count": 54,
     "metadata": {},
     "output_type": "execute_result"
    }
   ],
   "source": [
    "%%sql\n",
    "\n",
    "SELECT * FROM Musicas AS A LEFT JOIN Albuns AS B ON A.album=B.idAlbum"
   ]
  },
  {
   "cell_type": "code",
   "execution_count": 47,
   "id": "214bad79-79ac-487d-8487-43351b644ab8",
   "metadata": {},
   "outputs": [
    {
     "name": "stdout",
     "output_type": "stream",
     "text": [
      " * sqlite:///revisao.db\n",
      "Done.\n"
     ]
    },
    {
     "data": {
      "text/html": [
       "<table>\n",
       "    <thead>\n",
       "        <tr>\n",
       "            <th>idMusica</th>\n",
       "            <th>titulo</th>\n",
       "            <th>genero</th>\n",
       "            <th>album</th>\n",
       "            <th>artista</th>\n",
       "            <th>idAlbum</th>\n",
       "            <th>titulo_1</th>\n",
       "            <th>genero_1</th>\n",
       "            <th>artista_1</th>\n",
       "        </tr>\n",
       "    </thead>\n",
       "    <tbody>\n",
       "        <tr>\n",
       "            <td>3</td>\n",
       "            <td>I Don&#x27;t Wanna Live Forever</td>\n",
       "            <td>Pop</td>\n",
       "            <td>None</td>\n",
       "            <td>1</td>\n",
       "            <td>None</td>\n",
       "            <td>None</td>\n",
       "            <td>None</td>\n",
       "            <td>None</td>\n",
       "        </tr>\n",
       "    </tbody>\n",
       "</table>"
      ],
      "text/plain": [
       "[(3, \"I Don't Wanna Live Forever\", 'Pop', None, 1, None, None, None, None)]"
      ]
     },
     "execution_count": 47,
     "metadata": {},
     "output_type": "execute_result"
    }
   ],
   "source": [
    "%%sql\n",
    "\n",
    "SELECT * FROM Musicas AS A LEFT JOIN Albuns AS B ON A.album=B.idAlbum WHERE B.idAlbum IS NULL"
   ]
  },
  {
   "cell_type": "code",
   "execution_count": 53,
   "id": "28623e44-2c0e-4709-aa2d-4a77a8d9fe83",
   "metadata": {},
   "outputs": [
    {
     "name": "stdout",
     "output_type": "stream",
     "text": [
      " * sqlite:///revisao.db\n",
      "Done.\n"
     ]
    },
    {
     "data": {
      "text/html": [
       "<table>\n",
       "    <thead>\n",
       "        <tr>\n",
       "            <th>idMusica</th>\n",
       "            <th>titulo</th>\n",
       "            <th>genero</th>\n",
       "            <th>album</th>\n",
       "            <th>artista</th>\n",
       "            <th>idAlbum</th>\n",
       "            <th>titulo_1</th>\n",
       "            <th>genero_1</th>\n",
       "            <th>artista_1</th>\n",
       "        </tr>\n",
       "    </thead>\n",
       "    <tbody>\n",
       "        <tr>\n",
       "            <td>1</td>\n",
       "            <td>Fearless</td>\n",
       "            <td>Country</td>\n",
       "            <td>1</td>\n",
       "            <td>1</td>\n",
       "            <td>1</td>\n",
       "            <td>Fearless</td>\n",
       "            <td>Country</td>\n",
       "            <td>1</td>\n",
       "        </tr>\n",
       "        <tr>\n",
       "            <td>2</td>\n",
       "            <td>The Black Dog</td>\n",
       "            <td>Pop indie</td>\n",
       "            <td>2</td>\n",
       "            <td>1</td>\n",
       "            <td>2</td>\n",
       "            <td>The Tortured Poets Department</td>\n",
       "            <td>Pop indie</td>\n",
       "            <td>1</td>\n",
       "        </tr>\n",
       "        <tr>\n",
       "            <td>3</td>\n",
       "            <td>I Don&#x27;t Wanna Live Forever</td>\n",
       "            <td>Pop</td>\n",
       "            <td>None</td>\n",
       "            <td>1</td>\n",
       "            <td>None</td>\n",
       "            <td>None</td>\n",
       "            <td>None</td>\n",
       "            <td>None</td>\n",
       "        </tr>\n",
       "        <tr>\n",
       "            <td>4</td>\n",
       "            <td>The Prophecy</td>\n",
       "            <td>Pop indie</td>\n",
       "            <td>2</td>\n",
       "            <td>1</td>\n",
       "            <td>2</td>\n",
       "            <td>The Tortured Poets Department</td>\n",
       "            <td>Pop indie</td>\n",
       "            <td>1</td>\n",
       "        </tr>\n",
       "        <tr>\n",
       "            <td>5</td>\n",
       "            <td>I Know The End</td>\n",
       "            <td>indie</td>\n",
       "            <td>6</td>\n",
       "            <td>3</td>\n",
       "            <td>6</td>\n",
       "            <td>Punisher</td>\n",
       "            <td>indie</td>\n",
       "            <td>3</td>\n",
       "        </tr>\n",
       "        <tr>\n",
       "            <td>6</td>\n",
       "            <td>The Ballad of a Homeschooled Girl</td>\n",
       "            <td>Pop</td>\n",
       "            <td>4</td>\n",
       "            <td>4</td>\n",
       "            <td>4</td>\n",
       "            <td>GUTS</td>\n",
       "            <td>Pop</td>\n",
       "            <td>4</td>\n",
       "        </tr>\n",
       "        <tr>\n",
       "            <td>7</td>\n",
       "            <td>Bad for Business</td>\n",
       "            <td>Pop</td>\n",
       "            <td>5</td>\n",
       "            <td>2</td>\n",
       "            <td>5</td>\n",
       "            <td>emails I can&#x27;t send</td>\n",
       "            <td>Pop</td>\n",
       "            <td>2</td>\n",
       "        </tr>\n",
       "        <tr>\n",
       "            <td>8</td>\n",
       "            <td>So American</td>\n",
       "            <td>Pop</td>\n",
       "            <td>4</td>\n",
       "            <td>4</td>\n",
       "            <td>4</td>\n",
       "            <td>GUTS</td>\n",
       "            <td>Pop</td>\n",
       "            <td>4</td>\n",
       "        </tr>\n",
       "        <tr>\n",
       "            <td>9</td>\n",
       "            <td>making the bed</td>\n",
       "            <td>Pop</td>\n",
       "            <td>4</td>\n",
       "            <td>4</td>\n",
       "            <td>4</td>\n",
       "            <td>GUTS</td>\n",
       "            <td>Pop</td>\n",
       "            <td>4</td>\n",
       "        </tr>\n",
       "        <tr>\n",
       "            <td>None</td>\n",
       "            <td>None</td>\n",
       "            <td>None</td>\n",
       "            <td>None</td>\n",
       "            <td>None</td>\n",
       "            <td>3</td>\n",
       "            <td>Evermore</td>\n",
       "            <td>Folk indie</td>\n",
       "            <td>1</td>\n",
       "        </tr>\n",
       "        <tr>\n",
       "            <td>None</td>\n",
       "            <td>None</td>\n",
       "            <td>None</td>\n",
       "            <td>None</td>\n",
       "            <td>None</td>\n",
       "            <td>7</td>\n",
       "            <td>Folklore</td>\n",
       "            <td>indie</td>\n",
       "            <td>1</td>\n",
       "        </tr>\n",
       "    </tbody>\n",
       "</table>"
      ],
      "text/plain": [
       "[(1, 'Fearless', 'Country', 1, 1, 1, 'Fearless', 'Country', 1),\n",
       " (2, 'The Black Dog', 'Pop indie', 2, 1, 2, 'The Tortured Poets Department', 'Pop indie', 1),\n",
       " (3, \"I Don't Wanna Live Forever\", 'Pop', None, 1, None, None, None, None),\n",
       " (4, 'The Prophecy', 'Pop indie', 2, 1, 2, 'The Tortured Poets Department', 'Pop indie', 1),\n",
       " (5, 'I Know The End', 'indie', 6, 3, 6, 'Punisher', 'indie', 3),\n",
       " (6, 'The Ballad of a Homeschooled Girl', 'Pop', 4, 4, 4, 'GUTS', 'Pop', 4),\n",
       " (7, 'Bad for Business', 'Pop', 5, 2, 5, \"emails I can't send\", 'Pop', 2),\n",
       " (8, 'So American', 'Pop', 4, 4, 4, 'GUTS', 'Pop', 4),\n",
       " (9, 'making the bed', 'Pop', 4, 4, 4, 'GUTS', 'Pop', 4),\n",
       " (None, None, None, None, None, 3, 'Evermore', 'Folk indie', 1),\n",
       " (None, None, None, None, None, 7, 'Folklore', 'indie', 1)]"
      ]
     },
     "execution_count": 53,
     "metadata": {},
     "output_type": "execute_result"
    }
   ],
   "source": [
    "%%sql\n",
    "\n",
    "SELECT * FROM Musicas AS A FULL JOIN Albuns AS B ON A.album=B.idAlbum"
   ]
  }
 ],
 "metadata": {
  "kernelspec": {
   "display_name": "Python 3 (ipykernel)",
   "language": "python",
   "name": "python3"
  },
  "language_info": {
   "codemirror_mode": {
    "name": "ipython",
    "version": 3
   },
   "file_extension": ".py",
   "mimetype": "text/x-python",
   "name": "python",
   "nbconvert_exporter": "python",
   "pygments_lexer": "ipython3",
   "version": "3.12.7"
  }
 },
 "nbformat": 4,
 "nbformat_minor": 5
}
