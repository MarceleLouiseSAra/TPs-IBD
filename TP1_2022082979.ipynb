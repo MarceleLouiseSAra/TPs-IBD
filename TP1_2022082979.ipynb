{
 "cells": [
  {
   "cell_type": "code",
   "execution_count": 1,
   "id": "07aaf660-8b8a-46cb-9ac7-91b8f5ec4058",
   "metadata": {},
   "outputs": [],
   "source": [
    "# importando bibliotecas\n",
    "\n",
    "import pandas as pd\n",
    "import sqlite3"
   ]
  },
  {
   "cell_type": "code",
   "execution_count": null,
   "id": "256be0f4-5147-48fd-a9cc-a6df502761cf",
   "metadata": {},
   "outputs": [],
   "source": [
    "# instalando o kernel SQL ipython-sql\n",
    "!pip install ipython-sql"
   ]
  },
  {
   "cell_type": "code",
   "execution_count": 3,
   "id": "aedb6c2b-12b1-4cf4-a1aa-13e25cb492ec",
   "metadata": {},
   "outputs": [],
   "source": [
    "cnn = sqlite3.connect(\"TP1.db\")"
   ]
  },
  {
   "cell_type": "code",
   "execution_count": 2,
   "id": "5ec8ec2b-ad0a-4e6d-9a7d-b5d7a20e5423",
   "metadata": {},
   "outputs": [],
   "source": [
    "%load_ext sql"
   ]
  },
  {
   "cell_type": "code",
   "execution_count": 4,
   "id": "87a8ab54-b77c-4776-b2d0-624d3ce3e912",
   "metadata": {},
   "outputs": [],
   "source": [
    "%reload_ext sql"
   ]
  },
  {
   "cell_type": "code",
   "execution_count": 6,
   "id": "b2660cf0-36f7-4ec8-8516-d5531f30e2d6",
   "metadata": {},
   "outputs": [],
   "source": [
    "%sql sqlite:///TP1.db"
   ]
  },
  {
   "cell_type": "code",
   "execution_count": 7,
   "id": "95b4b343-6e3e-4003-9184-b9e15166058f",
   "metadata": {},
   "outputs": [
    {
     "name": "stdout",
     "output_type": "stream",
     "text": [
      " * sqlite:///TP1.db\n"
     ]
    }
   ],
   "source": [
    "%sql"
   ]
  },
  {
   "cell_type": "code",
   "execution_count": 9,
   "id": "93ed61f8-8a4f-42df-a98c-338b2dd7554a",
   "metadata": {},
   "outputs": [],
   "source": [
    "%config SqlMagic.style = '_DEPRECATED_DEFAULT'"
   ]
  },
  {
   "cell_type": "code",
   "execution_count": 9,
   "id": "90d9323e-d15e-4048-b41d-af6ead6d7d9d",
   "metadata": {
    "scrolled": true
   },
   "outputs": [
    {
     "name": "stdout",
     "output_type": "stream",
     "text": [
      " * sqlite:///TP1.db\n",
      "Done.\n"
     ]
    },
    {
     "data": {
      "text/plain": [
       "[]"
      ]
     },
     "execution_count": 9,
     "metadata": {},
     "output_type": "execute_result"
    }
   ],
   "source": [
    "%%sql\n",
    "\n",
    "CREATE TABLE filmes (\n",
    "    id INTEGER PRIMARY KEY AUTOINCREMENT,\n",
    "    titulo TEXT,\n",
    "    genero TEXT,\n",
    "    duracao INTEGER,\n",
    "    classificacao_indicativa INTEGER\n",
    ");"
   ]
  },
  {
   "cell_type": "code",
   "execution_count": 10,
   "id": "44b8d7c0-f75b-455e-ac31-8c77ddf35b7a",
   "metadata": {},
   "outputs": [
    {
     "name": "stdout",
     "output_type": "stream",
     "text": [
      " * sqlite:///TP1.db\n",
      "1 rows affected.\n",
      "1 rows affected.\n",
      "1 rows affected.\n",
      "1 rows affected.\n",
      "1 rows affected.\n",
      "1 rows affected.\n",
      "1 rows affected.\n",
      "1 rows affected.\n",
      "1 rows affected.\n",
      "1 rows affected.\n",
      "1 rows affected.\n",
      "1 rows affected.\n",
      "1 rows affected.\n",
      "1 rows affected.\n",
      "1 rows affected.\n",
      "1 rows affected.\n",
      "1 rows affected.\n",
      "1 rows affected.\n",
      "1 rows affected.\n"
     ]
    },
    {
     "data": {
      "text/plain": [
       "[]"
      ]
     },
     "execution_count": 10,
     "metadata": {},
     "output_type": "execute_result"
    }
   ],
   "source": [
    "%%sql\n",
    "\n",
    "INSERT INTO filmes(titulo, genero, duracao, classificacao_indicativa) VALUES ('Noites Brutais', 'Terror', 102, 18);\n",
    "INSERT INTO filmes(titulo, genero, duracao, classificacao_indicativa) VALUES ('Nosferatu', 'Terror', 132, 18);\n",
    "INSERT INTO filmes(titulo, genero, duracao, classificacao_indicativa) VALUES ('O Homem nas Trevas', 'Terror', 88, 18);\n",
    "INSERT INTO filmes(titulo, genero, duracao, classificacao_indicativa) VALUES ('Hush: A Morte Ouve', 'Terror', 87, 14);\n",
    "INSERT INTO filmes(titulo, genero, duracao, classificacao_indicativa) VALUES ('Longlegs - Vínculo Mortal', 'Terror', 101, 18);\n",
    "INSERT INTO filmes(titulo, genero, duracao, classificacao_indicativa) VALUES ('A Substância', 'Terror', 140, 18);\n",
    "INSERT INTO filmes(titulo, genero, duracao, classificacao_indicativa) VALUES ('Entrevista com o Demônio', 'Terror', 99, 18);\n",
    "INSERT INTO filmes(titulo, genero, duracao, classificacao_indicativa) VALUES ('Um Lugar Silencioso: Dia Um', 'Terror', 99, 16);\n",
    "INSERT INTO filmes(titulo, genero, duracao, classificacao_indicativa) VALUES ('Nós', 'Terror', 121, 18);\n",
    "INSERT INTO filmes(titulo, genero, duracao, classificacao_indicativa) VALUES ('Corra', 'Terror', 104, 18);\n",
    "INSERT INTO filmes(titulo, genero, duracao, classificacao_indicativa) VALUES ('Duro de Matar', 'Ação', 131, 12);\n",
    "INSERT INTO filmes(titulo, genero, duracao, classificacao_indicativa) VALUES ('Velozes e Furiosos', 'Ação', 106, 12);\n",
    "INSERT INTO filmes(titulo, genero, duracao, classificacao_indicativa) VALUES ('Gente Grande', 'Comédia', 102, 12);\n",
    "INSERT INTO filmes(titulo, genero, duracao, classificacao_indicativa) VALUES ('Até Que a Sorte nos Separa', 'Comédia', 104, 10);\n",
    "INSERT INTO filmes(titulo, genero, duracao, classificacao_indicativa) VALUES ('Minha Mãe é Uma Peça', 'Comédia', 85, 12);\n",
    "INSERT INTO filmes(titulo, genero, duracao, classificacao_indicativa) VALUES ('1917', 'Drama', 119, 16);\n",
    "INSERT INTO filmes(titulo, genero, duracao, classificacao_indicativa) VALUES ('Titanic', 'Drama', 194, 14);\n",
    "INSERT INTO filmes(titulo, genero, duracao, classificacao_indicativa) VALUES ('Ainda Estou Aqui', 'Drama', 135, 16);\n",
    "INSERT INTO filmes(titulo, genero, duracao, classificacao_indicativa) VALUES ('Vingadores: Ultimato', 'Ação', 181, 12);"
   ]
  },
  {
   "cell_type": "code",
   "execution_count": 11,
   "id": "b8f3771d-8dce-4886-ba59-a4c460ecdcbc",
   "metadata": {},
   "outputs": [
    {
     "name": "stdout",
     "output_type": "stream",
     "text": [
      " * sqlite:///TP1.db\n",
      "Done.\n"
     ]
    },
    {
     "data": {
      "text/html": [
       "<table>\n",
       "    <thead>\n",
       "        <tr>\n",
       "            <th>id</th>\n",
       "            <th>titulo</th>\n",
       "            <th>genero</th>\n",
       "            <th>duracao</th>\n",
       "            <th>classificacao_indicativa</th>\n",
       "        </tr>\n",
       "    </thead>\n",
       "    <tbody>\n",
       "        <tr>\n",
       "            <td>1</td>\n",
       "            <td>Noites Brutais</td>\n",
       "            <td>Terror</td>\n",
       "            <td>102</td>\n",
       "            <td>18</td>\n",
       "        </tr>\n",
       "        <tr>\n",
       "            <td>2</td>\n",
       "            <td>Nosferatu</td>\n",
       "            <td>Terror</td>\n",
       "            <td>132</td>\n",
       "            <td>18</td>\n",
       "        </tr>\n",
       "        <tr>\n",
       "            <td>3</td>\n",
       "            <td>O Homem nas Trevas</td>\n",
       "            <td>Terror</td>\n",
       "            <td>88</td>\n",
       "            <td>18</td>\n",
       "        </tr>\n",
       "        <tr>\n",
       "            <td>4</td>\n",
       "            <td>Hush: A Morte Ouve</td>\n",
       "            <td>Terror</td>\n",
       "            <td>87</td>\n",
       "            <td>14</td>\n",
       "        </tr>\n",
       "        <tr>\n",
       "            <td>5</td>\n",
       "            <td>Longlegs - Vínculo Mortal</td>\n",
       "            <td>Terror</td>\n",
       "            <td>101</td>\n",
       "            <td>18</td>\n",
       "        </tr>\n",
       "        <tr>\n",
       "            <td>6</td>\n",
       "            <td>A Substância</td>\n",
       "            <td>Terror</td>\n",
       "            <td>140</td>\n",
       "            <td>18</td>\n",
       "        </tr>\n",
       "        <tr>\n",
       "            <td>7</td>\n",
       "            <td>Entrevista com o Demônio</td>\n",
       "            <td>Terror</td>\n",
       "            <td>99</td>\n",
       "            <td>18</td>\n",
       "        </tr>\n",
       "        <tr>\n",
       "            <td>8</td>\n",
       "            <td>Um Lugar Silencioso: Dia Um</td>\n",
       "            <td>Terror</td>\n",
       "            <td>99</td>\n",
       "            <td>16</td>\n",
       "        </tr>\n",
       "        <tr>\n",
       "            <td>9</td>\n",
       "            <td>Nós</td>\n",
       "            <td>Terror</td>\n",
       "            <td>121</td>\n",
       "            <td>18</td>\n",
       "        </tr>\n",
       "        <tr>\n",
       "            <td>10</td>\n",
       "            <td>Corra</td>\n",
       "            <td>Terror</td>\n",
       "            <td>104</td>\n",
       "            <td>18</td>\n",
       "        </tr>\n",
       "        <tr>\n",
       "            <td>11</td>\n",
       "            <td>Duro de Matar</td>\n",
       "            <td>Ação</td>\n",
       "            <td>131</td>\n",
       "            <td>12</td>\n",
       "        </tr>\n",
       "        <tr>\n",
       "            <td>12</td>\n",
       "            <td>Velozes e Furiosos</td>\n",
       "            <td>Ação</td>\n",
       "            <td>106</td>\n",
       "            <td>12</td>\n",
       "        </tr>\n",
       "        <tr>\n",
       "            <td>13</td>\n",
       "            <td>Gente Grande</td>\n",
       "            <td>Comédia</td>\n",
       "            <td>102</td>\n",
       "            <td>12</td>\n",
       "        </tr>\n",
       "        <tr>\n",
       "            <td>14</td>\n",
       "            <td>Até Que a Sorte nos Separa</td>\n",
       "            <td>Comédia</td>\n",
       "            <td>104</td>\n",
       "            <td>10</td>\n",
       "        </tr>\n",
       "        <tr>\n",
       "            <td>15</td>\n",
       "            <td>Minha Mãe é Uma Peça</td>\n",
       "            <td>Comédia</td>\n",
       "            <td>85</td>\n",
       "            <td>12</td>\n",
       "        </tr>\n",
       "        <tr>\n",
       "            <td>16</td>\n",
       "            <td>1917</td>\n",
       "            <td>Drama</td>\n",
       "            <td>119</td>\n",
       "            <td>16</td>\n",
       "        </tr>\n",
       "        <tr>\n",
       "            <td>17</td>\n",
       "            <td>Titanic</td>\n",
       "            <td>Drama</td>\n",
       "            <td>194</td>\n",
       "            <td>14</td>\n",
       "        </tr>\n",
       "        <tr>\n",
       "            <td>18</td>\n",
       "            <td>Ainda Estou Aqui</td>\n",
       "            <td>Drama</td>\n",
       "            <td>135</td>\n",
       "            <td>16</td>\n",
       "        </tr>\n",
       "        <tr>\n",
       "            <td>19</td>\n",
       "            <td>Vingadores: Ultimato</td>\n",
       "            <td>Ação</td>\n",
       "            <td>181</td>\n",
       "            <td>12</td>\n",
       "        </tr>\n",
       "    </tbody>\n",
       "</table>"
      ],
      "text/plain": [
       "[(1, 'Noites Brutais', 'Terror', 102, 18),\n",
       " (2, 'Nosferatu', 'Terror', 132, 18),\n",
       " (3, 'O Homem nas Trevas', 'Terror', 88, 18),\n",
       " (4, 'Hush: A Morte Ouve', 'Terror', 87, 14),\n",
       " (5, 'Longlegs - Vínculo Mortal', 'Terror', 101, 18),\n",
       " (6, 'A Substância', 'Terror', 140, 18),\n",
       " (7, 'Entrevista com o Demônio', 'Terror', 99, 18),\n",
       " (8, 'Um Lugar Silencioso: Dia Um', 'Terror', 99, 16),\n",
       " (9, 'Nós', 'Terror', 121, 18),\n",
       " (10, 'Corra', 'Terror', 104, 18),\n",
       " (11, 'Duro de Matar', 'Ação', 131, 12),\n",
       " (12, 'Velozes e Furiosos', 'Ação', 106, 12),\n",
       " (13, 'Gente Grande', 'Comédia', 102, 12),\n",
       " (14, 'Até Que a Sorte nos Separa', 'Comédia', 104, 10),\n",
       " (15, 'Minha Mãe é Uma Peça', 'Comédia', 85, 12),\n",
       " (16, '1917', 'Drama', 119, 16),\n",
       " (17, 'Titanic', 'Drama', 194, 14),\n",
       " (18, 'Ainda Estou Aqui', 'Drama', 135, 16),\n",
       " (19, 'Vingadores: Ultimato', 'Ação', 181, 12)]"
      ]
     },
     "execution_count": 11,
     "metadata": {},
     "output_type": "execute_result"
    }
   ],
   "source": [
    "%sql SELECT * FROM filmes"
   ]
  },
  {
   "cell_type": "code",
   "execution_count": 12,
   "id": "758c8ed5-2431-42bd-a8f5-480e147cdba9",
   "metadata": {},
   "outputs": [
    {
     "name": "stdout",
     "output_type": "stream",
     "text": [
      " * sqlite:///TP1.db\n",
      "Done.\n"
     ]
    },
    {
     "data": {
      "text/plain": [
       "[]"
      ]
     },
     "execution_count": 12,
     "metadata": {},
     "output_type": "execute_result"
    }
   ],
   "source": [
    "%%sql\n",
    "\n",
    "CREATE TABLE salas (\n",
    "    id INTEGER PRIMARY KEY AUTOINCREMENT,\n",
    "    nome TEXT,\n",
    "    capacidade INTEGER\n",
    ");"
   ]
  },
  {
   "cell_type": "code",
   "execution_count": 13,
   "id": "b3222fb1-ba00-4cc6-8d12-08f85dc0124d",
   "metadata": {},
   "outputs": [
    {
     "name": "stdout",
     "output_type": "stream",
     "text": [
      " * sqlite:///TP1.db\n",
      "1 rows affected.\n",
      "1 rows affected.\n",
      "1 rows affected.\n",
      "1 rows affected.\n",
      "1 rows affected.\n",
      "1 rows affected.\n",
      "1 rows affected.\n",
      "1 rows affected.\n"
     ]
    },
    {
     "data": {
      "text/plain": [
       "[]"
      ]
     },
     "execution_count": 13,
     "metadata": {},
     "output_type": "execute_result"
    }
   ],
   "source": [
    "%%sql\n",
    "\n",
    "INSERT INTO salas(nome, capacidade) VALUES (\"01\", 50);\n",
    "INSERT INTO salas(nome, capacidade) VALUES (\"02\", 130);\n",
    "INSERT INTO salas(nome, capacidade) VALUES (\"03\", 80);\n",
    "INSERT INTO salas(nome, capacidade) VALUES (\"04\", 120);\n",
    "INSERT INTO salas(nome, capacidade) VALUES (\"05\", 105);\n",
    "INSERT INTO salas(nome, capacidade) VALUES (\"06\", 90);\n",
    "INSERT INTO salas(nome, capacidade) VALUES (\"07\", 125);\n",
    "INSERT INTO salas(nome, capacidade) VALUES (\"08\", 180);"
   ]
  },
  {
   "cell_type": "code",
   "execution_count": 14,
   "id": "835814b7-fb26-4ea4-ba1a-4e2f1550e85d",
   "metadata": {},
   "outputs": [
    {
     "name": "stdout",
     "output_type": "stream",
     "text": [
      " * sqlite:///TP1.db\n",
      "Done.\n"
     ]
    },
    {
     "data": {
      "text/html": [
       "<table>\n",
       "    <thead>\n",
       "        <tr>\n",
       "            <th>id</th>\n",
       "            <th>nome</th>\n",
       "            <th>capacidade</th>\n",
       "        </tr>\n",
       "    </thead>\n",
       "    <tbody>\n",
       "        <tr>\n",
       "            <td>1</td>\n",
       "            <td>01</td>\n",
       "            <td>50</td>\n",
       "        </tr>\n",
       "        <tr>\n",
       "            <td>2</td>\n",
       "            <td>02</td>\n",
       "            <td>130</td>\n",
       "        </tr>\n",
       "        <tr>\n",
       "            <td>3</td>\n",
       "            <td>03</td>\n",
       "            <td>80</td>\n",
       "        </tr>\n",
       "        <tr>\n",
       "            <td>4</td>\n",
       "            <td>04</td>\n",
       "            <td>120</td>\n",
       "        </tr>\n",
       "        <tr>\n",
       "            <td>5</td>\n",
       "            <td>05</td>\n",
       "            <td>105</td>\n",
       "        </tr>\n",
       "        <tr>\n",
       "            <td>6</td>\n",
       "            <td>06</td>\n",
       "            <td>90</td>\n",
       "        </tr>\n",
       "        <tr>\n",
       "            <td>7</td>\n",
       "            <td>07</td>\n",
       "            <td>125</td>\n",
       "        </tr>\n",
       "        <tr>\n",
       "            <td>8</td>\n",
       "            <td>08</td>\n",
       "            <td>180</td>\n",
       "        </tr>\n",
       "    </tbody>\n",
       "</table>"
      ],
      "text/plain": [
       "[(1, '01', 50),\n",
       " (2, '02', 130),\n",
       " (3, '03', 80),\n",
       " (4, '04', 120),\n",
       " (5, '05', 105),\n",
       " (6, '06', 90),\n",
       " (7, '07', 125),\n",
       " (8, '08', 180)]"
      ]
     },
     "execution_count": 14,
     "metadata": {},
     "output_type": "execute_result"
    }
   ],
   "source": [
    "%sql SELECT * FROM salas"
   ]
  },
  {
   "cell_type": "code",
   "execution_count": 15,
   "id": "2835cd6d-6860-4043-808c-0f0afa1281d6",
   "metadata": {},
   "outputs": [
    {
     "name": "stdout",
     "output_type": "stream",
     "text": [
      " * sqlite:///TP1.db\n",
      "Done.\n"
     ]
    },
    {
     "data": {
      "text/plain": [
       "[]"
      ]
     },
     "execution_count": 15,
     "metadata": {},
     "output_type": "execute_result"
    }
   ],
   "source": [
    "%%sql\n",
    "\n",
    "CREATE TABLE sessoes (\n",
    "    id INTEGER PRIMARY KEY AUTOINCREMENT,\n",
    "    filmes_id INTEGER,\n",
    "    salas_id INTEGER,\n",
    "    data_hora TEXT,\n",
    "    preco_ingresso REAL,\n",
    "    FOREIGN KEY (filmes_id) REFERENCES filmes(id),\n",
    "    FOREIGN KEY (salas_id) REFERENCES salas(id)\n",
    ");"
   ]
  },
  {
   "cell_type": "code",
   "execution_count": 16,
   "id": "f5b47548-cdc4-4f9a-9c06-1b5f118354c8",
   "metadata": {},
   "outputs": [
    {
     "name": "stdout",
     "output_type": "stream",
     "text": [
      " * sqlite:///TP1.db\n",
      "1 rows affected.\n",
      "1 rows affected.\n",
      "1 rows affected.\n",
      "1 rows affected.\n",
      "1 rows affected.\n",
      "1 rows affected.\n",
      "1 rows affected.\n",
      "1 rows affected.\n",
      "1 rows affected.\n",
      "1 rows affected.\n",
      "1 rows affected.\n",
      "1 rows affected.\n",
      "1 rows affected.\n",
      "1 rows affected.\n",
      "1 rows affected.\n",
      "1 rows affected.\n",
      "1 rows affected.\n",
      "1 rows affected.\n",
      "1 rows affected.\n",
      "1 rows affected.\n",
      "1 rows affected.\n",
      "1 rows affected.\n",
      "1 rows affected.\n",
      "1 rows affected.\n"
     ]
    },
    {
     "data": {
      "text/plain": [
       "[]"
      ]
     },
     "execution_count": 16,
     "metadata": {},
     "output_type": "execute_result"
    }
   ],
   "source": [
    "%%sql\n",
    "\n",
    "INSERT INTO sessoes(filmes_id, salas_id, data_hora, preco_ingresso) VALUES (1, 1, \"2025-04-23\", 12.99);\n",
    "INSERT INTO sessoes(filmes_id, salas_id, data_hora, preco_ingresso) VALUES (1, 1, \"2025-04-23\", 12.99);\n",
    "INSERT INTO sessoes(filmes_id, salas_id, data_hora, preco_ingresso) VALUES (2, 1, \"2025-04-23\", 35.99);\n",
    "INSERT INTO sessoes(filmes_id, salas_id, data_hora, preco_ingresso) VALUES (2, 2, \"2025-04-23\", 35.99);\n",
    "INSERT INTO sessoes(filmes_id, salas_id, data_hora, preco_ingresso) VALUES (2, 1, \"2025-04-23\", 29.99);\n",
    "INSERT INTO sessoes(filmes_id, salas_id, data_hora, preco_ingresso) VALUES (3, 5, \"2025-04-23\", 42.99);\n",
    "INSERT INTO sessoes(filmes_id, salas_id, data_hora, preco_ingresso) VALUES (4, 6, \"2025-04-23\", 10.99);\n",
    "INSERT INTO sessoes(filmes_id, salas_id, data_hora, preco_ingresso) VALUES (4, 6, \"2025-04-23\", 10.99);\n",
    "INSERT INTO sessoes(filmes_id, salas_id, data_hora, preco_ingresso) VALUES (5, 1, \"2025-04-23\", 15.99);\n",
    "INSERT INTO sessoes(filmes_id, salas_id, data_hora, preco_ingresso) VALUES (5, 2, \"2025-04-23\", 15.99);\n",
    "INSERT INTO sessoes(filmes_id, salas_id, data_hora, preco_ingresso) VALUES (5, 3, \"2025-04-23\", 15.99);\n",
    "INSERT INTO sessoes(filmes_id, salas_id, data_hora, preco_ingresso) VALUES (6, 8, \"2025-04-24\", 25.99);\n",
    "INSERT INTO sessoes(filmes_id, salas_id, data_hora, preco_ingresso) VALUES (7, 5, \"2025-04-24\", 13.99);\n",
    "INSERT INTO sessoes(filmes_id, salas_id, data_hora, preco_ingresso) VALUES (7, 5, \"2025-04-24\", 13.99);\n",
    "INSERT INTO sessoes(filmes_id, salas_id, data_hora, preco_ingresso) VALUES (8, 8, \"2025-04-24\", 52.99);\n",
    "INSERT INTO sessoes(filmes_id, salas_id, data_hora, preco_ingresso) VALUES (9, 1, \"2025-04-24\", 39.99);\n",
    "INSERT INTO sessoes(filmes_id, salas_id, data_hora, preco_ingresso) VALUES (9, 7, \"2025-04-24\", 39.99);\n",
    "INSERT INTO sessoes(filmes_id, salas_id, data_hora, preco_ingresso) VALUES (9, 1, \"2025-04-24\", 34.99);\n",
    "INSERT INTO sessoes(filmes_id, salas_id, data_hora, preco_ingresso) VALUES (18, 8, \"2025-04-24\", 52.99);\n",
    "INSERT INTO sessoes(filmes_id, salas_id, data_hora, preco_ingresso) VALUES (19, 1, \"2025-04-25\", 24.99);\n",
    "INSERT INTO sessoes(filmes_id, salas_id, data_hora, preco_ingresso) VALUES (19, 2, \"2025-04-25\", 24.99);\n",
    "INSERT INTO sessoes(filmes_id, salas_id, data_hora, preco_ingresso) VALUES (19, 3, \"2025-04-25\", 24.99);\n",
    "INSERT INTO sessoes(filmes_id, salas_id, data_hora, preco_ingresso) VALUES (19, 4, \"2025-04-25\", 24.99);\n",
    "INSERT INTO sessoes(filmes_id, salas_id, data_hora, preco_ingresso) VALUES (19, 5, \"2025-04-25\", 24.99);"
   ]
  },
  {
   "cell_type": "code",
   "execution_count": 17,
   "id": "76850b69-852b-411f-8908-fc439874f53d",
   "metadata": {},
   "outputs": [
    {
     "name": "stdout",
     "output_type": "stream",
     "text": [
      " * sqlite:///TP1.db\n",
      "Done.\n"
     ]
    },
    {
     "data": {
      "text/html": [
       "<table>\n",
       "    <thead>\n",
       "        <tr>\n",
       "            <th>id</th>\n",
       "            <th>filmes_id</th>\n",
       "            <th>salas_id</th>\n",
       "            <th>data_hora</th>\n",
       "            <th>preco_ingresso</th>\n",
       "        </tr>\n",
       "    </thead>\n",
       "    <tbody>\n",
       "        <tr>\n",
       "            <td>1</td>\n",
       "            <td>1</td>\n",
       "            <td>1</td>\n",
       "            <td>2025-04-23</td>\n",
       "            <td>12.99</td>\n",
       "        </tr>\n",
       "        <tr>\n",
       "            <td>2</td>\n",
       "            <td>1</td>\n",
       "            <td>1</td>\n",
       "            <td>2025-04-23</td>\n",
       "            <td>12.99</td>\n",
       "        </tr>\n",
       "        <tr>\n",
       "            <td>3</td>\n",
       "            <td>2</td>\n",
       "            <td>1</td>\n",
       "            <td>2025-04-23</td>\n",
       "            <td>35.99</td>\n",
       "        </tr>\n",
       "        <tr>\n",
       "            <td>4</td>\n",
       "            <td>2</td>\n",
       "            <td>2</td>\n",
       "            <td>2025-04-23</td>\n",
       "            <td>35.99</td>\n",
       "        </tr>\n",
       "        <tr>\n",
       "            <td>5</td>\n",
       "            <td>2</td>\n",
       "            <td>1</td>\n",
       "            <td>2025-04-23</td>\n",
       "            <td>29.99</td>\n",
       "        </tr>\n",
       "        <tr>\n",
       "            <td>6</td>\n",
       "            <td>3</td>\n",
       "            <td>5</td>\n",
       "            <td>2025-04-23</td>\n",
       "            <td>42.99</td>\n",
       "        </tr>\n",
       "        <tr>\n",
       "            <td>7</td>\n",
       "            <td>4</td>\n",
       "            <td>6</td>\n",
       "            <td>2025-04-23</td>\n",
       "            <td>10.99</td>\n",
       "        </tr>\n",
       "        <tr>\n",
       "            <td>8</td>\n",
       "            <td>4</td>\n",
       "            <td>6</td>\n",
       "            <td>2025-04-23</td>\n",
       "            <td>10.99</td>\n",
       "        </tr>\n",
       "        <tr>\n",
       "            <td>9</td>\n",
       "            <td>5</td>\n",
       "            <td>1</td>\n",
       "            <td>2025-04-23</td>\n",
       "            <td>15.99</td>\n",
       "        </tr>\n",
       "        <tr>\n",
       "            <td>10</td>\n",
       "            <td>5</td>\n",
       "            <td>2</td>\n",
       "            <td>2025-04-23</td>\n",
       "            <td>15.99</td>\n",
       "        </tr>\n",
       "        <tr>\n",
       "            <td>11</td>\n",
       "            <td>5</td>\n",
       "            <td>3</td>\n",
       "            <td>2025-04-23</td>\n",
       "            <td>15.99</td>\n",
       "        </tr>\n",
       "        <tr>\n",
       "            <td>12</td>\n",
       "            <td>6</td>\n",
       "            <td>8</td>\n",
       "            <td>2025-04-24</td>\n",
       "            <td>25.99</td>\n",
       "        </tr>\n",
       "        <tr>\n",
       "            <td>13</td>\n",
       "            <td>7</td>\n",
       "            <td>5</td>\n",
       "            <td>2025-04-24</td>\n",
       "            <td>13.99</td>\n",
       "        </tr>\n",
       "        <tr>\n",
       "            <td>14</td>\n",
       "            <td>7</td>\n",
       "            <td>5</td>\n",
       "            <td>2025-04-24</td>\n",
       "            <td>13.99</td>\n",
       "        </tr>\n",
       "        <tr>\n",
       "            <td>15</td>\n",
       "            <td>8</td>\n",
       "            <td>8</td>\n",
       "            <td>2025-04-24</td>\n",
       "            <td>52.99</td>\n",
       "        </tr>\n",
       "        <tr>\n",
       "            <td>16</td>\n",
       "            <td>9</td>\n",
       "            <td>1</td>\n",
       "            <td>2025-04-24</td>\n",
       "            <td>39.99</td>\n",
       "        </tr>\n",
       "        <tr>\n",
       "            <td>17</td>\n",
       "            <td>9</td>\n",
       "            <td>7</td>\n",
       "            <td>2025-04-24</td>\n",
       "            <td>39.99</td>\n",
       "        </tr>\n",
       "        <tr>\n",
       "            <td>18</td>\n",
       "            <td>9</td>\n",
       "            <td>1</td>\n",
       "            <td>2025-04-24</td>\n",
       "            <td>34.99</td>\n",
       "        </tr>\n",
       "        <tr>\n",
       "            <td>19</td>\n",
       "            <td>18</td>\n",
       "            <td>8</td>\n",
       "            <td>2025-04-24</td>\n",
       "            <td>52.99</td>\n",
       "        </tr>\n",
       "        <tr>\n",
       "            <td>20</td>\n",
       "            <td>19</td>\n",
       "            <td>1</td>\n",
       "            <td>2025-04-25</td>\n",
       "            <td>24.99</td>\n",
       "        </tr>\n",
       "        <tr>\n",
       "            <td>21</td>\n",
       "            <td>19</td>\n",
       "            <td>2</td>\n",
       "            <td>2025-04-25</td>\n",
       "            <td>24.99</td>\n",
       "        </tr>\n",
       "        <tr>\n",
       "            <td>22</td>\n",
       "            <td>19</td>\n",
       "            <td>3</td>\n",
       "            <td>2025-04-25</td>\n",
       "            <td>24.99</td>\n",
       "        </tr>\n",
       "        <tr>\n",
       "            <td>23</td>\n",
       "            <td>19</td>\n",
       "            <td>4</td>\n",
       "            <td>2025-04-25</td>\n",
       "            <td>24.99</td>\n",
       "        </tr>\n",
       "        <tr>\n",
       "            <td>24</td>\n",
       "            <td>19</td>\n",
       "            <td>5</td>\n",
       "            <td>2025-04-25</td>\n",
       "            <td>24.99</td>\n",
       "        </tr>\n",
       "    </tbody>\n",
       "</table>"
      ],
      "text/plain": [
       "[(1, 1, 1, '2025-04-23', 12.99),\n",
       " (2, 1, 1, '2025-04-23', 12.99),\n",
       " (3, 2, 1, '2025-04-23', 35.99),\n",
       " (4, 2, 2, '2025-04-23', 35.99),\n",
       " (5, 2, 1, '2025-04-23', 29.99),\n",
       " (6, 3, 5, '2025-04-23', 42.99),\n",
       " (7, 4, 6, '2025-04-23', 10.99),\n",
       " (8, 4, 6, '2025-04-23', 10.99),\n",
       " (9, 5, 1, '2025-04-23', 15.99),\n",
       " (10, 5, 2, '2025-04-23', 15.99),\n",
       " (11, 5, 3, '2025-04-23', 15.99),\n",
       " (12, 6, 8, '2025-04-24', 25.99),\n",
       " (13, 7, 5, '2025-04-24', 13.99),\n",
       " (14, 7, 5, '2025-04-24', 13.99),\n",
       " (15, 8, 8, '2025-04-24', 52.99),\n",
       " (16, 9, 1, '2025-04-24', 39.99),\n",
       " (17, 9, 7, '2025-04-24', 39.99),\n",
       " (18, 9, 1, '2025-04-24', 34.99),\n",
       " (19, 18, 8, '2025-04-24', 52.99),\n",
       " (20, 19, 1, '2025-04-25', 24.99),\n",
       " (21, 19, 2, '2025-04-25', 24.99),\n",
       " (22, 19, 3, '2025-04-25', 24.99),\n",
       " (23, 19, 4, '2025-04-25', 24.99),\n",
       " (24, 19, 5, '2025-04-25', 24.99)]"
      ]
     },
     "execution_count": 17,
     "metadata": {},
     "output_type": "execute_result"
    }
   ],
   "source": [
    "%sql SELECT * FROM sessoes"
   ]
  },
  {
   "cell_type": "code",
   "execution_count": 18,
   "id": "79a93443-7df4-40a3-a5e8-e1313b918cb2",
   "metadata": {},
   "outputs": [
    {
     "name": "stdout",
     "output_type": "stream",
     "text": [
      " * sqlite:///TP1.db\n",
      "Done.\n"
     ]
    },
    {
     "data": {
      "text/plain": [
       "[]"
      ]
     },
     "execution_count": 18,
     "metadata": {},
     "output_type": "execute_result"
    }
   ],
   "source": [
    "%%sql\n",
    "\n",
    "CREATE TABLE clientes (\n",
    "    id INTEGER PRIMARY KEY AUTOINCREMENT,\n",
    "    nome TEXT,\n",
    "    email TEXT,\n",
    "    data_nascimento TEXT\n",
    ");"
   ]
  },
  {
   "cell_type": "code",
   "execution_count": 19,
   "id": "2774e6e9-9de8-4df6-9795-2f47a594abaa",
   "metadata": {},
   "outputs": [
    {
     "name": "stdout",
     "output_type": "stream",
     "text": [
      " * sqlite:///TP1.db\n",
      "1 rows affected.\n",
      "1 rows affected.\n",
      "1 rows affected.\n",
      "1 rows affected.\n"
     ]
    },
    {
     "data": {
      "text/plain": [
       "[]"
      ]
     },
     "execution_count": 19,
     "metadata": {},
     "output_type": "execute_result"
    }
   ],
   "source": [
    "%%sql\n",
    "\n",
    "INSERT INTO clientes(nome, email, data_nascimento) VALUES (\"Marcele Araponga\", \"louise20marcele03@gmail.com\", \"2003-09-24\");\n",
    "INSERT INTO clientes(nome, email, data_nascimento) VALUES (\"Laísa Toledo\", \"laisacunha11@gmail.com\", \"2002-09-09\");\n",
    "INSERT INTO clientes(nome, email, data_nascimento) VALUES (\"Flávia Nunes\", \"flavianunesoli2@gmail.com\", \"2006-05-07\");\n",
    "INSERT INTO clientes(nome, email, data_nascimento) VALUES (\"Maria Clara Barbosa\", \"clarinhadeitiúba@gmail.com\", \"2004-02-18\");"
   ]
  },
  {
   "cell_type": "code",
   "execution_count": 20,
   "id": "e3446d9c-e42c-42af-b24f-b2dbe049c01b",
   "metadata": {},
   "outputs": [
    {
     "name": "stdout",
     "output_type": "stream",
     "text": [
      " * sqlite:///TP1.db\n",
      "Done.\n"
     ]
    },
    {
     "data": {
      "text/html": [
       "<table>\n",
       "    <thead>\n",
       "        <tr>\n",
       "            <th>id</th>\n",
       "            <th>nome</th>\n",
       "            <th>email</th>\n",
       "            <th>data_nascimento</th>\n",
       "        </tr>\n",
       "    </thead>\n",
       "    <tbody>\n",
       "        <tr>\n",
       "            <td>1</td>\n",
       "            <td>Marcele Araponga</td>\n",
       "            <td>louise20marcele03@gmail.com</td>\n",
       "            <td>2003-09-24</td>\n",
       "        </tr>\n",
       "        <tr>\n",
       "            <td>2</td>\n",
       "            <td>Laísa Toledo</td>\n",
       "            <td>laisacunha11@gmail.com</td>\n",
       "            <td>2002-09-09</td>\n",
       "        </tr>\n",
       "        <tr>\n",
       "            <td>3</td>\n",
       "            <td>Flávia Nunes</td>\n",
       "            <td>flavianunesoli2@gmail.com</td>\n",
       "            <td>2006-05-07</td>\n",
       "        </tr>\n",
       "        <tr>\n",
       "            <td>4</td>\n",
       "            <td>Maria Clara Barbosa</td>\n",
       "            <td>clarinhadeitiúba@gmail.com</td>\n",
       "            <td>2004-02-18</td>\n",
       "        </tr>\n",
       "    </tbody>\n",
       "</table>"
      ],
      "text/plain": [
       "[(1, 'Marcele Araponga', 'louise20marcele03@gmail.com', '2003-09-24'),\n",
       " (2, 'Laísa Toledo', 'laisacunha11@gmail.com', '2002-09-09'),\n",
       " (3, 'Flávia Nunes', 'flavianunesoli2@gmail.com', '2006-05-07'),\n",
       " (4, 'Maria Clara Barbosa', 'clarinhadeitiúba@gmail.com', '2004-02-18')]"
      ]
     },
     "execution_count": 20,
     "metadata": {},
     "output_type": "execute_result"
    }
   ],
   "source": [
    "%sql SELECT * FROM clientes"
   ]
  },
  {
   "cell_type": "code",
   "execution_count": 21,
   "id": "ead97f6e-a082-4a7a-8d11-6b6dc6492465",
   "metadata": {},
   "outputs": [
    {
     "name": "stdout",
     "output_type": "stream",
     "text": [
      " * sqlite:///TP1.db\n",
      "Done.\n"
     ]
    },
    {
     "data": {
      "text/plain": [
       "[]"
      ]
     },
     "execution_count": 21,
     "metadata": {},
     "output_type": "execute_result"
    }
   ],
   "source": [
    "%%sql\n",
    "\n",
    "CREATE TABLE ingressos (\n",
    "    id INTEGER PRIMARY KEY AUTOINCREMENT,\n",
    "    sessao_id INTEGER,\n",
    "    cliente_id INTEGER,\n",
    "    data_compra TEXT,\n",
    "    FOREIGN KEY (sessao_id) REFERENCES sessoes(id),\n",
    "    FOREIGN KEY (cliente_id) REFERENCES clientes(id)\n",
    ");"
   ]
  },
  {
   "cell_type": "code",
   "execution_count": 22,
   "id": "24ea07d3-b621-4523-8915-17fb8c35feb3",
   "metadata": {},
   "outputs": [
    {
     "name": "stdout",
     "output_type": "stream",
     "text": [
      " * sqlite:///TP1.db\n",
      "1 rows affected.\n",
      "1 rows affected.\n",
      "1 rows affected.\n",
      "1 rows affected.\n",
      "1 rows affected.\n",
      "1 rows affected.\n",
      "1 rows affected.\n",
      "1 rows affected.\n",
      "1 rows affected.\n"
     ]
    },
    {
     "data": {
      "text/plain": [
       "[]"
      ]
     },
     "execution_count": 22,
     "metadata": {},
     "output_type": "execute_result"
    }
   ],
   "source": [
    "%%sql\n",
    "\n",
    "INSERT INTO ingressos(sessao_id, cliente_id, data_compra) VALUES (18, 3, \"2025-04-11\");\n",
    "INSERT INTO ingressos(sessao_id, cliente_id, data_compra) VALUES (19, 3, \"2025-04-15\");\n",
    "INSERT INTO ingressos(sessao_id, cliente_id, data_compra) VALUES (5, 3, \"2025-04-17\");\n",
    "INSERT INTO ingressos(sessao_id, cliente_id, data_compra) VALUES (19, 2, \"2025-04-16\");\n",
    "INSERT INTO ingressos(sessao_id, cliente_id, data_compra) VALUES (1, 1, \"2025-04-25\");\n",
    "INSERT INTO ingressos(sessao_id, cliente_id, data_compra) VALUES (2, 1, \"2025-04-07\");\n",
    "INSERT INTO ingressos(sessao_id, cliente_id, data_compra) VALUES (18, 1, \"2025-04-07\");\n",
    "INSERT INTO ingressos(sessao_id, cliente_id, data_compra) VALUES (1, 3, \"2025-04-11\");\n",
    "INSERT INTO ingressos(sessao_id, cliente_id, data_compra) VALUES (2, 3, \"2025-04-07\");"
   ]
  },
  {
   "cell_type": "code",
   "execution_count": 23,
   "id": "12189852-ac99-420e-8e85-6c2490fde54c",
   "metadata": {},
   "outputs": [
    {
     "name": "stdout",
     "output_type": "stream",
     "text": [
      " * sqlite:///TP1.db\n",
      "Done.\n"
     ]
    },
    {
     "data": {
      "text/html": [
       "<table>\n",
       "    <thead>\n",
       "        <tr>\n",
       "            <th>id</th>\n",
       "            <th>sessao_id</th>\n",
       "            <th>cliente_id</th>\n",
       "            <th>data_compra</th>\n",
       "        </tr>\n",
       "    </thead>\n",
       "    <tbody>\n",
       "        <tr>\n",
       "            <td>5</td>\n",
       "            <td>1</td>\n",
       "            <td>1</td>\n",
       "            <td>2025-04-25</td>\n",
       "        </tr>\n",
       "        <tr>\n",
       "            <td>6</td>\n",
       "            <td>2</td>\n",
       "            <td>1</td>\n",
       "            <td>2025-04-07</td>\n",
       "        </tr>\n",
       "        <tr>\n",
       "            <td>3</td>\n",
       "            <td>5</td>\n",
       "            <td>3</td>\n",
       "            <td>2025-04-17</td>\n",
       "        </tr>\n",
       "        <tr>\n",
       "            <td>1</td>\n",
       "            <td>18</td>\n",
       "            <td>3</td>\n",
       "            <td>2025-04-11</td>\n",
       "        </tr>\n",
       "        <tr>\n",
       "            <td>2</td>\n",
       "            <td>19</td>\n",
       "            <td>3</td>\n",
       "            <td>2025-04-15</td>\n",
       "        </tr>\n",
       "    </tbody>\n",
       "</table>"
      ],
      "text/plain": [
       "[(5, 1, 1, '2025-04-25'),\n",
       " (6, 2, 1, '2025-04-07'),\n",
       " (3, 5, 3, '2025-04-17'),\n",
       " (1, 18, 3, '2025-04-11'),\n",
       " (2, 19, 3, '2025-04-15')]"
      ]
     },
     "execution_count": 23,
     "metadata": {},
     "output_type": "execute_result"
    }
   ],
   "source": [
    "%sql SELECT * FROM ingressos GROUP BY sessao_id"
   ]
  },
  {
   "cell_type": "code",
   "execution_count": 24,
   "id": "9d89561a-91de-45ac-9212-3924ff935aa9",
   "metadata": {},
   "outputs": [
    {
     "name": "stdout",
     "output_type": "stream",
     "text": [
      " * sqlite:///TP1.db\n",
      "Done.\n"
     ]
    },
    {
     "data": {
      "text/html": [
       "<table>\n",
       "    <thead>\n",
       "        <tr>\n",
       "            <th>titulo</th>\n",
       "        </tr>\n",
       "    </thead>\n",
       "    <tbody>\n",
       "        <tr>\n",
       "            <td>Duro de Matar</td>\n",
       "        </tr>\n",
       "        <tr>\n",
       "            <td>Velozes e Furiosos</td>\n",
       "        </tr>\n",
       "        <tr>\n",
       "            <td>Vingadores: Ultimato</td>\n",
       "        </tr>\n",
       "    </tbody>\n",
       "</table>"
      ],
      "text/plain": [
       "[('Duro de Matar',), ('Velozes e Furiosos',), ('Vingadores: Ultimato',)]"
      ]
     },
     "execution_count": 24,
     "metadata": {},
     "output_type": "execute_result"
    }
   ],
   "source": [
    "# A1: Título dos filmes do gênero \"Ação\"\n",
    "\n",
    "%sql SELECT titulo FROM filmes WHERE genero=\"Ação\""
   ]
  },
  {
   "cell_type": "code",
   "execution_count": 25,
   "id": "dc9f997f-fa46-43d5-9d63-c0654fc8a6d6",
   "metadata": {},
   "outputs": [
    {
     "name": "stdout",
     "output_type": "stream",
     "text": [
      " * sqlite:///TP1.db\n",
      "Done.\n"
     ]
    },
    {
     "data": {
      "text/html": [
       "<table>\n",
       "    <thead>\n",
       "        <tr>\n",
       "            <th>nome</th>\n",
       "        </tr>\n",
       "    </thead>\n",
       "    <tbody>\n",
       "        <tr>\n",
       "            <td>02</td>\n",
       "        </tr>\n",
       "        <tr>\n",
       "            <td>04</td>\n",
       "        </tr>\n",
       "        <tr>\n",
       "            <td>05</td>\n",
       "        </tr>\n",
       "        <tr>\n",
       "            <td>07</td>\n",
       "        </tr>\n",
       "        <tr>\n",
       "            <td>08</td>\n",
       "        </tr>\n",
       "    </tbody>\n",
       "</table>"
      ],
      "text/plain": [
       "[('02',), ('04',), ('05',), ('07',), ('08',)]"
      ]
     },
     "execution_count": 25,
     "metadata": {},
     "output_type": "execute_result"
    }
   ],
   "source": [
    "# A2: Nome das salas que comportam mais de 100 pessoas\n",
    "\n",
    "%sql SELECT nome FROM salas WHERE capacidade>100"
   ]
  },
  {
   "cell_type": "code",
   "execution_count": 26,
   "id": "1096def1-9b23-48bb-86a8-94a3f44fe311",
   "metadata": {},
   "outputs": [
    {
     "name": "stdout",
     "output_type": "stream",
     "text": [
      " * sqlite:///TP1.db\n",
      "Done.\n"
     ]
    },
    {
     "data": {
      "text/html": [
       "<table>\n",
       "    <thead>\n",
       "        <tr>\n",
       "            <th>titulo</th>\n",
       "            <th>preco_ingresso</th>\n",
       "        </tr>\n",
       "    </thead>\n",
       "    <tbody>\n",
       "        <tr>\n",
       "            <td>Noites Brutais</td>\n",
       "            <td>12.99</td>\n",
       "        </tr>\n",
       "        <tr>\n",
       "            <td>Noites Brutais</td>\n",
       "            <td>12.99</td>\n",
       "        </tr>\n",
       "        <tr>\n",
       "            <td>Nosferatu</td>\n",
       "            <td>35.99</td>\n",
       "        </tr>\n",
       "        <tr>\n",
       "            <td>Nosferatu</td>\n",
       "            <td>35.99</td>\n",
       "        </tr>\n",
       "        <tr>\n",
       "            <td>Nosferatu</td>\n",
       "            <td>29.99</td>\n",
       "        </tr>\n",
       "        <tr>\n",
       "            <td>O Homem nas Trevas</td>\n",
       "            <td>42.99</td>\n",
       "        </tr>\n",
       "        <tr>\n",
       "            <td>Hush: A Morte Ouve</td>\n",
       "            <td>10.99</td>\n",
       "        </tr>\n",
       "        <tr>\n",
       "            <td>Hush: A Morte Ouve</td>\n",
       "            <td>10.99</td>\n",
       "        </tr>\n",
       "        <tr>\n",
       "            <td>Longlegs - Vínculo Mortal</td>\n",
       "            <td>15.99</td>\n",
       "        </tr>\n",
       "        <tr>\n",
       "            <td>Longlegs - Vínculo Mortal</td>\n",
       "            <td>15.99</td>\n",
       "        </tr>\n",
       "        <tr>\n",
       "            <td>Longlegs - Vínculo Mortal</td>\n",
       "            <td>15.99</td>\n",
       "        </tr>\n",
       "        <tr>\n",
       "            <td>A Substância</td>\n",
       "            <td>25.99</td>\n",
       "        </tr>\n",
       "        <tr>\n",
       "            <td>Entrevista com o Demônio</td>\n",
       "            <td>13.99</td>\n",
       "        </tr>\n",
       "        <tr>\n",
       "            <td>Entrevista com o Demônio</td>\n",
       "            <td>13.99</td>\n",
       "        </tr>\n",
       "        <tr>\n",
       "            <td>Um Lugar Silencioso: Dia Um</td>\n",
       "            <td>52.99</td>\n",
       "        </tr>\n",
       "        <tr>\n",
       "            <td>Nós</td>\n",
       "            <td>39.99</td>\n",
       "        </tr>\n",
       "        <tr>\n",
       "            <td>Nós</td>\n",
       "            <td>39.99</td>\n",
       "        </tr>\n",
       "        <tr>\n",
       "            <td>Nós</td>\n",
       "            <td>34.99</td>\n",
       "        </tr>\n",
       "        <tr>\n",
       "            <td>Ainda Estou Aqui</td>\n",
       "            <td>52.99</td>\n",
       "        </tr>\n",
       "        <tr>\n",
       "            <td>Vingadores: Ultimato</td>\n",
       "            <td>24.99</td>\n",
       "        </tr>\n",
       "        <tr>\n",
       "            <td>Vingadores: Ultimato</td>\n",
       "            <td>24.99</td>\n",
       "        </tr>\n",
       "        <tr>\n",
       "            <td>Vingadores: Ultimato</td>\n",
       "            <td>24.99</td>\n",
       "        </tr>\n",
       "        <tr>\n",
       "            <td>Vingadores: Ultimato</td>\n",
       "            <td>24.99</td>\n",
       "        </tr>\n",
       "        <tr>\n",
       "            <td>Vingadores: Ultimato</td>\n",
       "            <td>24.99</td>\n",
       "        </tr>\n",
       "    </tbody>\n",
       "</table>"
      ],
      "text/plain": [
       "[('Noites Brutais', 12.99),\n",
       " ('Noites Brutais', 12.99),\n",
       " ('Nosferatu', 35.99),\n",
       " ('Nosferatu', 35.99),\n",
       " ('Nosferatu', 29.99),\n",
       " ('O Homem nas Trevas', 42.99),\n",
       " ('Hush: A Morte Ouve', 10.99),\n",
       " ('Hush: A Morte Ouve', 10.99),\n",
       " ('Longlegs - Vínculo Mortal', 15.99),\n",
       " ('Longlegs - Vínculo Mortal', 15.99),\n",
       " ('Longlegs - Vínculo Mortal', 15.99),\n",
       " ('A Substância', 25.99),\n",
       " ('Entrevista com o Demônio', 13.99),\n",
       " ('Entrevista com o Demônio', 13.99),\n",
       " ('Um Lugar Silencioso: Dia Um', 52.99),\n",
       " ('Nós', 39.99),\n",
       " ('Nós', 39.99),\n",
       " ('Nós', 34.99),\n",
       " ('Ainda Estou Aqui', 52.99),\n",
       " ('Vingadores: Ultimato', 24.99),\n",
       " ('Vingadores: Ultimato', 24.99),\n",
       " ('Vingadores: Ultimato', 24.99),\n",
       " ('Vingadores: Ultimato', 24.99),\n",
       " ('Vingadores: Ultimato', 24.99)]"
      ]
     },
     "execution_count": 26,
     "metadata": {},
     "output_type": "execute_result"
    }
   ],
   "source": [
    "# A3 Título e preço dos ingressos dos filmes que estão em cartaz\n",
    "\n",
    "%sql SELECT titulo, preco_ingresso FROM sessoes, filmes WHERE sessoes.filmes_id = filmes.id"
   ]
  },
  {
   "cell_type": "code",
   "execution_count": 27,
   "id": "40bdec7e-9d11-4bdc-aed8-9cab0ec9cebe",
   "metadata": {},
   "outputs": [
    {
     "name": "stdout",
     "output_type": "stream",
     "text": [
      " * sqlite:///TP1.db\n",
      "Done.\n"
     ]
    },
    {
     "data": {
      "text/html": [
       "<table>\n",
       "    <thead>\n",
       "        <tr>\n",
       "            <th>nome</th>\n",
       "        </tr>\n",
       "    </thead>\n",
       "    <tbody>\n",
       "        <tr>\n",
       "            <td>Flávia Nunes</td>\n",
       "        </tr>\n",
       "        <tr>\n",
       "            <td>Flávia Nunes</td>\n",
       "        </tr>\n",
       "        <tr>\n",
       "            <td>Flávia Nunes</td>\n",
       "        </tr>\n",
       "        <tr>\n",
       "            <td>Laísa Toledo</td>\n",
       "        </tr>\n",
       "        <tr>\n",
       "            <td>Marcele Araponga</td>\n",
       "        </tr>\n",
       "        <tr>\n",
       "            <td>Marcele Araponga</td>\n",
       "        </tr>\n",
       "        <tr>\n",
       "            <td>Marcele Araponga</td>\n",
       "        </tr>\n",
       "        <tr>\n",
       "            <td>Flávia Nunes</td>\n",
       "        </tr>\n",
       "        <tr>\n",
       "            <td>Flávia Nunes</td>\n",
       "        </tr>\n",
       "    </tbody>\n",
       "</table>"
      ],
      "text/plain": [
       "[('Flávia Nunes',),\n",
       " ('Flávia Nunes',),\n",
       " ('Flávia Nunes',),\n",
       " ('Laísa Toledo',),\n",
       " ('Marcele Araponga',),\n",
       " ('Marcele Araponga',),\n",
       " ('Marcele Araponga',),\n",
       " ('Flávia Nunes',),\n",
       " ('Flávia Nunes',)]"
      ]
     },
     "execution_count": 27,
     "metadata": {},
     "output_type": "execute_result"
    }
   ],
   "source": [
    "# A4: Nomes dos clientes que compraram algum ingresso (?)\n",
    "\n",
    "%sql SELECT nome FROM clientes, ingressos WHERE clientes.id=ingressos.cliente_id"
   ]
  },
  {
   "cell_type": "code",
   "execution_count": 28,
   "id": "ef778f26-5b5e-46e0-ba98-cf03036c89d1",
   "metadata": {},
   "outputs": [
    {
     "name": "stdout",
     "output_type": "stream",
     "text": [
      " * sqlite:///TP1.db\n",
      "Done.\n"
     ]
    },
    {
     "data": {
      "text/html": [
       "<table>\n",
       "    <thead>\n",
       "        <tr>\n",
       "            <th>titulo</th>\n",
       "        </tr>\n",
       "    </thead>\n",
       "    <tbody>\n",
       "        <tr>\n",
       "            <td>Noites Brutais</td>\n",
       "        </tr>\n",
       "        <tr>\n",
       "            <td>Nosferatu</td>\n",
       "        </tr>\n",
       "        <tr>\n",
       "            <td>O Homem nas Trevas</td>\n",
       "        </tr>\n",
       "        <tr>\n",
       "            <td>Longlegs - Vínculo Mortal</td>\n",
       "        </tr>\n",
       "        <tr>\n",
       "            <td>A Substância</td>\n",
       "        </tr>\n",
       "        <tr>\n",
       "            <td>Entrevista com o Demônio</td>\n",
       "        </tr>\n",
       "        <tr>\n",
       "            <td>Nós</td>\n",
       "        </tr>\n",
       "        <tr>\n",
       "            <td>Corra</td>\n",
       "        </tr>\n",
       "    </tbody>\n",
       "</table>"
      ],
      "text/plain": [
       "[('Noites Brutais',),\n",
       " ('Nosferatu',),\n",
       " ('O Homem nas Trevas',),\n",
       " ('Longlegs - Vínculo Mortal',),\n",
       " ('A Substância',),\n",
       " ('Entrevista com o Demônio',),\n",
       " ('Nós',),\n",
       " ('Corra',)]"
      ]
     },
     "execution_count": 28,
     "metadata": {},
     "output_type": "execute_result"
    }
   ],
   "source": [
    "# A5: Título dos filmes cuja classificação indicativa é maior que 16 anos\n",
    "\n",
    "%sql SELECT titulo FROM filmes WHERE classificacao_indicativa>16"
   ]
  },
  {
   "cell_type": "code",
   "execution_count": 29,
   "id": "34b778ea-5e73-4ae2-a6dc-457d589c8929",
   "metadata": {},
   "outputs": [
    {
     "name": "stdout",
     "output_type": "stream",
     "text": [
      " * sqlite:///TP1.db\n",
      "Done.\n"
     ]
    },
    {
     "data": {
      "text/html": [
       "<table>\n",
       "    <thead>\n",
       "        <tr>\n",
       "            <th>nome</th>\n",
       "            <th>data_compra</th>\n",
       "        </tr>\n",
       "    </thead>\n",
       "    <tbody>\n",
       "        <tr>\n",
       "            <td>Flávia Nunes</td>\n",
       "            <td>2025-04-11</td>\n",
       "        </tr>\n",
       "        <tr>\n",
       "            <td>Flávia Nunes</td>\n",
       "            <td>2025-04-15</td>\n",
       "        </tr>\n",
       "        <tr>\n",
       "            <td>Flávia Nunes</td>\n",
       "            <td>2025-04-17</td>\n",
       "        </tr>\n",
       "        <tr>\n",
       "            <td>Laísa Toledo</td>\n",
       "            <td>2025-04-16</td>\n",
       "        </tr>\n",
       "        <tr>\n",
       "            <td>Marcele Araponga</td>\n",
       "            <td>2025-04-25</td>\n",
       "        </tr>\n",
       "        <tr>\n",
       "            <td>Marcele Araponga</td>\n",
       "            <td>2025-04-07</td>\n",
       "        </tr>\n",
       "        <tr>\n",
       "            <td>Marcele Araponga</td>\n",
       "            <td>2025-04-07</td>\n",
       "        </tr>\n",
       "        <tr>\n",
       "            <td>Flávia Nunes</td>\n",
       "            <td>2025-04-11</td>\n",
       "        </tr>\n",
       "        <tr>\n",
       "            <td>Flávia Nunes</td>\n",
       "            <td>2025-04-07</td>\n",
       "        </tr>\n",
       "    </tbody>\n",
       "</table>"
      ],
      "text/plain": [
       "[('Flávia Nunes', '2025-04-11'),\n",
       " ('Flávia Nunes', '2025-04-15'),\n",
       " ('Flávia Nunes', '2025-04-17'),\n",
       " ('Laísa Toledo', '2025-04-16'),\n",
       " ('Marcele Araponga', '2025-04-25'),\n",
       " ('Marcele Araponga', '2025-04-07'),\n",
       " ('Marcele Araponga', '2025-04-07'),\n",
       " ('Flávia Nunes', '2025-04-11'),\n",
       " ('Flávia Nunes', '2025-04-07')]"
      ]
     },
     "execution_count": 29,
     "metadata": {},
     "output_type": "execute_result"
    }
   ],
   "source": [
    "# A6: Nome dos clientes que compraram ingressps para alguma sessão e a data da compra\n",
    "\n",
    "%sql SELECT nome, data_compra FROM clientes, ingressos, sessoes WHERE ingressos.sessao_id=sessoes.id AND clientes.id=ingressos.cliente_id"
   ]
  },
  {
   "cell_type": "code",
   "execution_count": 30,
   "id": "a5c2ea72-9c01-4b63-9fe2-211d75cd9725",
   "metadata": {},
   "outputs": [
    {
     "name": "stdout",
     "output_type": "stream",
     "text": [
      " * sqlite:///TP1.db\n",
      "Done.\n"
     ]
    },
    {
     "data": {
      "text/html": [
       "<table>\n",
       "    <thead>\n",
       "        <tr>\n",
       "            <th>titulo</th>\n",
       "        </tr>\n",
       "    </thead>\n",
       "    <tbody>\n",
       "        <tr>\n",
       "            <td>A Substância</td>\n",
       "        </tr>\n",
       "        <tr>\n",
       "            <td>Ainda Estou Aqui</td>\n",
       "        </tr>\n",
       "        <tr>\n",
       "            <td>Entrevista com o Demônio</td>\n",
       "        </tr>\n",
       "        <tr>\n",
       "            <td>Hush: A Morte Ouve</td>\n",
       "        </tr>\n",
       "        <tr>\n",
       "            <td>Longlegs - Vínculo Mortal</td>\n",
       "        </tr>\n",
       "        <tr>\n",
       "            <td>Noites Brutais</td>\n",
       "        </tr>\n",
       "        <tr>\n",
       "            <td>Nosferatu</td>\n",
       "        </tr>\n",
       "        <tr>\n",
       "            <td>Nós</td>\n",
       "        </tr>\n",
       "        <tr>\n",
       "            <td>O Homem nas Trevas</td>\n",
       "        </tr>\n",
       "        <tr>\n",
       "            <td>Um Lugar Silencioso: Dia Um</td>\n",
       "        </tr>\n",
       "        <tr>\n",
       "            <td>Vingadores: Ultimato</td>\n",
       "        </tr>\n",
       "    </tbody>\n",
       "</table>"
      ],
      "text/plain": [
       "[('A Substância',),\n",
       " ('Ainda Estou Aqui',),\n",
       " ('Entrevista com o Demônio',),\n",
       " ('Hush: A Morte Ouve',),\n",
       " ('Longlegs - Vínculo Mortal',),\n",
       " ('Noites Brutais',),\n",
       " ('Nosferatu',),\n",
       " ('Nós',),\n",
       " ('O Homem nas Trevas',),\n",
       " ('Um Lugar Silencioso: Dia Um',),\n",
       " ('Vingadores: Ultimato',)]"
      ]
     },
     "execution_count": 30,
     "metadata": {},
     "output_type": "execute_result"
    }
   ],
   "source": [
    "# A7: Títulos dos filmes que estão em cartaz\n",
    "\n",
    "%sql SELECT titulo FROM filmes, sessoes WHERE sessoes.filmes_id=filmes.id GROUP BY titulo"
   ]
  },
  {
   "cell_type": "code",
   "execution_count": 31,
   "id": "a0a17c92-df6e-4736-b267-936441cb9c14",
   "metadata": {},
   "outputs": [
    {
     "name": "stdout",
     "output_type": "stream",
     "text": [
      " * sqlite:///TP1.db\n",
      "Done.\n"
     ]
    },
    {
     "data": {
      "text/html": [
       "<table>\n",
       "    <thead>\n",
       "        <tr>\n",
       "            <th>id</th>\n",
       "        </tr>\n",
       "    </thead>\n",
       "    <tbody>\n",
       "        <tr>\n",
       "            <td>20</td>\n",
       "        </tr>\n",
       "        <tr>\n",
       "            <td>21</td>\n",
       "        </tr>\n",
       "        <tr>\n",
       "            <td>22</td>\n",
       "        </tr>\n",
       "        <tr>\n",
       "            <td>23</td>\n",
       "        </tr>\n",
       "        <tr>\n",
       "            <td>24</td>\n",
       "        </tr>\n",
       "    </tbody>\n",
       "</table>"
      ],
      "text/plain": [
       "[(20,), (21,), (22,), (23,), (24,)]"
      ]
     },
     "execution_count": 31,
     "metadata": {},
     "output_type": "execute_result"
    }
   ],
   "source": [
    "# A8: Id das sessões do dia 2025-04-25\n",
    "\n",
    "%sql SELECT id FROM sessoes WHERE data_hora=\"2025-04-25\""
   ]
  },
  {
   "cell_type": "code",
   "execution_count": 32,
   "id": "bf7a2d1e-7eb3-4870-b9f2-419f8b3940ad",
   "metadata": {},
   "outputs": [
    {
     "name": "stdout",
     "output_type": "stream",
     "text": [
      " * sqlite:///TP1.db\n",
      "Done.\n"
     ]
    },
    {
     "data": {
      "text/html": [
       "<table>\n",
       "    <thead>\n",
       "        <tr>\n",
       "            <th>cliente_id</th>\n",
       "            <th>COUNT(*)</th>\n",
       "        </tr>\n",
       "    </thead>\n",
       "    <tbody>\n",
       "        <tr>\n",
       "            <td>1</td>\n",
       "            <td>3</td>\n",
       "        </tr>\n",
       "        <tr>\n",
       "            <td>2</td>\n",
       "            <td>1</td>\n",
       "        </tr>\n",
       "        <tr>\n",
       "            <td>3</td>\n",
       "            <td>5</td>\n",
       "        </tr>\n",
       "    </tbody>\n",
       "</table>"
      ],
      "text/plain": [
       "[(1, 3), (2, 1), (3, 5)]"
      ]
     },
     "execution_count": 32,
     "metadata": {},
     "output_type": "execute_result"
    }
   ],
   "source": [
    "# A9: Id dos clientes e quantos ingressos eles compraram\n",
    "\n",
    "%sql SELECT cliente_id, COUNT(*) FROM ingressos GROUP BY cliente_id"
   ]
  },
  {
   "cell_type": "code",
   "execution_count": 33,
   "id": "d8d79778-dbb2-47e6-8475-0f4fc22fdbbe",
   "metadata": {},
   "outputs": [
    {
     "name": "stdout",
     "output_type": "stream",
     "text": [
      " * sqlite:///TP1.db\n",
      "Done.\n"
     ]
    },
    {
     "data": {
      "text/html": [
       "<table>\n",
       "    <thead>\n",
       "        <tr>\n",
       "            <th>id</th>\n",
       "            <th>titulo</th>\n",
       "            <th>genero</th>\n",
       "            <th>duracao</th>\n",
       "            <th>classificacao_indicativa</th>\n",
       "            <th>id_1</th>\n",
       "            <th>filmes_id</th>\n",
       "            <th>salas_id</th>\n",
       "            <th>data_hora</th>\n",
       "            <th>preco_ingresso</th>\n",
       "            <th>id_2</th>\n",
       "            <th>sessao_id</th>\n",
       "            <th>cliente_id</th>\n",
       "            <th>data_compra</th>\n",
       "        </tr>\n",
       "    </thead>\n",
       "    <tbody>\n",
       "        <tr>\n",
       "            <td>18</td>\n",
       "            <td>Ainda Estou Aqui</td>\n",
       "            <td>Drama</td>\n",
       "            <td>135</td>\n",
       "            <td>16</td>\n",
       "            <td>19</td>\n",
       "            <td>18</td>\n",
       "            <td>8</td>\n",
       "            <td>2025-04-24</td>\n",
       "            <td>52.99</td>\n",
       "            <td>2</td>\n",
       "            <td>19</td>\n",
       "            <td>3</td>\n",
       "            <td>2025-04-15</td>\n",
       "        </tr>\n",
       "        <tr>\n",
       "            <td>1</td>\n",
       "            <td>Noites Brutais</td>\n",
       "            <td>Terror</td>\n",
       "            <td>102</td>\n",
       "            <td>18</td>\n",
       "            <td>1</td>\n",
       "            <td>1</td>\n",
       "            <td>1</td>\n",
       "            <td>2025-04-23</td>\n",
       "            <td>12.99</td>\n",
       "            <td>5</td>\n",
       "            <td>1</td>\n",
       "            <td>1</td>\n",
       "            <td>2025-04-25</td>\n",
       "        </tr>\n",
       "        <tr>\n",
       "            <td>2</td>\n",
       "            <td>Nosferatu</td>\n",
       "            <td>Terror</td>\n",
       "            <td>132</td>\n",
       "            <td>18</td>\n",
       "            <td>5</td>\n",
       "            <td>2</td>\n",
       "            <td>1</td>\n",
       "            <td>2025-04-23</td>\n",
       "            <td>29.99</td>\n",
       "            <td>3</td>\n",
       "            <td>5</td>\n",
       "            <td>3</td>\n",
       "            <td>2025-04-17</td>\n",
       "        </tr>\n",
       "        <tr>\n",
       "            <td>9</td>\n",
       "            <td>Nós</td>\n",
       "            <td>Terror</td>\n",
       "            <td>121</td>\n",
       "            <td>18</td>\n",
       "            <td>18</td>\n",
       "            <td>9</td>\n",
       "            <td>1</td>\n",
       "            <td>2025-04-24</td>\n",
       "            <td>34.99</td>\n",
       "            <td>1</td>\n",
       "            <td>18</td>\n",
       "            <td>3</td>\n",
       "            <td>2025-04-11</td>\n",
       "        </tr>\n",
       "    </tbody>\n",
       "</table>"
      ],
      "text/plain": [
       "[(18, 'Ainda Estou Aqui', 'Drama', 135, 16, 19, 18, 8, '2025-04-24', 52.99, 2, 19, 3, '2025-04-15'),\n",
       " (1, 'Noites Brutais', 'Terror', 102, 18, 1, 1, 1, '2025-04-23', 12.99, 5, 1, 1, '2025-04-25'),\n",
       " (2, 'Nosferatu', 'Terror', 132, 18, 5, 2, 1, '2025-04-23', 29.99, 3, 5, 3, '2025-04-17'),\n",
       " (9, 'Nós', 'Terror', 121, 18, 18, 9, 1, '2025-04-24', 34.99, 1, 18, 3, '2025-04-11')]"
      ]
     },
     "execution_count": 33,
     "metadata": {},
     "output_type": "execute_result"
    }
   ],
   "source": [
    "# A10 Título dos filmes em cartaz pros quais foram comprados ingressos\n",
    "\n",
    "%sql SELECT * FROM filmes, sessoes, ingressos WHERE sessoes.id=ingressos.sessao_id AND filmes.id=sessoes.filmes_id GROUP BY titulo"
   ]
  },
  {
   "cell_type": "code",
   "execution_count": 34,
   "id": "e124cb51-0a6d-4e64-98c1-625dcc0d639d",
   "metadata": {},
   "outputs": [
    {
     "name": "stdout",
     "output_type": "stream",
     "text": [
      " * sqlite:///TP1.db\n",
      "Done.\n"
     ]
    },
    {
     "data": {
      "text/html": [
       "<table>\n",
       "    <thead>\n",
       "        <tr>\n",
       "            <th>titulo</th>\n",
       "        </tr>\n",
       "    </thead>\n",
       "    <tbody>\n",
       "        <tr>\n",
       "            <td>Gente Grande</td>\n",
       "        </tr>\n",
       "        <tr>\n",
       "            <td>Até Que a Sorte nos Separa</td>\n",
       "        </tr>\n",
       "        <tr>\n",
       "            <td>Minha Mãe é Uma Peça</td>\n",
       "        </tr>\n",
       "    </tbody>\n",
       "</table>"
      ],
      "text/plain": [
       "[('Gente Grande',), ('Até Que a Sorte nos Separa',), ('Minha Mãe é Uma Peça',)]"
      ]
     },
     "execution_count": 34,
     "metadata": {},
     "output_type": "execute_result"
    }
   ],
   "source": [
    "# B1: Liste todos os filmes do gênero ’Comédia’\n",
    "\n",
    "%sql SELECT titulo FROM filmes WHERE genero='Comédia';"
   ]
  },
  {
   "cell_type": "code",
   "execution_count": 35,
   "id": "d9e31283-1945-48e3-8a90-040be2f8a259",
   "metadata": {},
   "outputs": [
    {
     "name": "stdout",
     "output_type": "stream",
     "text": [
      " * sqlite:///TP1.db\n",
      "Done.\n"
     ]
    },
    {
     "data": {
      "text/html": [
       "<table>\n",
       "    <thead>\n",
       "        <tr>\n",
       "            <th>nome</th>\n",
       "        </tr>\n",
       "    </thead>\n",
       "    <tbody>\n",
       "        <tr>\n",
       "            <td>08</td>\n",
       "        </tr>\n",
       "    </tbody>\n",
       "</table>"
      ],
      "text/plain": [
       "[('08',)]"
      ]
     },
     "execution_count": 35,
     "metadata": {},
     "output_type": "execute_result"
    }
   ],
   "source": [
    "# B2: Encontre as salas que possuem capacidade superior a 150 lugares\n",
    "\n",
    "%sql SELECT nome FROM salas WHERE capacidade>150;"
   ]
  },
  {
   "cell_type": "code",
   "execution_count": 36,
   "id": "6f32a94b-c156-491e-b306-e426e160709d",
   "metadata": {},
   "outputs": [],
   "source": [
    "# B3: Liste as sessões que ocorrem no período noturno (após 18h)"
   ]
  },
  {
   "cell_type": "code",
   "execution_count": 37,
   "id": "30b5929c-cf0c-4c08-b591-4177df8b6eb2",
   "metadata": {},
   "outputs": [
    {
     "name": "stdout",
     "output_type": "stream",
     "text": [
      " * sqlite:///TP1.db\n",
      "Done.\n"
     ]
    },
    {
     "data": {
      "text/html": [
       "<table>\n",
       "    <thead>\n",
       "        <tr>\n",
       "            <th>cliente_id</th>\n",
       "        </tr>\n",
       "    </thead>\n",
       "    <tbody>\n",
       "        <tr>\n",
       "            <td>1</td>\n",
       "        </tr>\n",
       "        <tr>\n",
       "            <td>3</td>\n",
       "        </tr>\n",
       "    </tbody>\n",
       "</table>"
      ],
      "text/plain": [
       "[(1,), (3,)]"
      ]
     },
     "execution_count": 37,
     "metadata": {},
     "output_type": "execute_result"
    }
   ],
   "source": [
    "# B4: Mostre os clientes que compraram mais de 2 ingressos\n",
    "\n",
    "%sql SELECT cliente_id FROM ingressos GROUP BY cliente_id HAVING COUNT(*)>2"
   ]
  },
  {
   "cell_type": "code",
   "execution_count": 38,
   "id": "13fc38e6-079a-47cd-9c1f-360ec5b0b1df",
   "metadata": {},
   "outputs": [
    {
     "name": "stdout",
     "output_type": "stream",
     "text": [
      " * sqlite:///TP1.db\n",
      "Done.\n"
     ]
    },
    {
     "data": {
      "text/html": [
       "<table>\n",
       "    <thead>\n",
       "        <tr>\n",
       "            <th>AVG(preco_ingresso)</th>\n",
       "        </tr>\n",
       "    </thead>\n",
       "    <tbody>\n",
       "        <tr>\n",
       "            <td>26.698333333333334</td>\n",
       "        </tr>\n",
       "    </tbody>\n",
       "</table>"
      ],
      "text/plain": [
       "[(26.698333333333334,)]"
      ]
     },
     "execution_count": 38,
     "metadata": {},
     "output_type": "execute_result"
    }
   ],
   "source": [
    "# B5: Calcule a média de preço dos ingressos vendidos por sessão\n",
    "\n",
    "%sql SELECT AVG(preco_ingresso) FROM sessoes"
   ]
  },
  {
   "cell_type": "code",
   "execution_count": 39,
   "id": "6df96f41-ca69-47b0-9966-e6f6555c92d2",
   "metadata": {
    "scrolled": true
   },
   "outputs": [
    {
     "name": "stdout",
     "output_type": "stream",
     "text": [
      " * sqlite:///TP1.db\n",
      "Done.\n"
     ]
    },
    {
     "data": {
      "text/html": [
       "<table>\n",
       "    <thead>\n",
       "        <tr>\n",
       "            <th>id</th>\n",
       "        </tr>\n",
       "    </thead>\n",
       "    <tbody>\n",
       "        <tr>\n",
       "            <td>3</td>\n",
       "        </tr>\n",
       "        <tr>\n",
       "            <td>4</td>\n",
       "        </tr>\n",
       "        <tr>\n",
       "            <td>6</td>\n",
       "        </tr>\n",
       "        <tr>\n",
       "            <td>7</td>\n",
       "        </tr>\n",
       "        <tr>\n",
       "            <td>8</td>\n",
       "        </tr>\n",
       "        <tr>\n",
       "            <td>9</td>\n",
       "        </tr>\n",
       "        <tr>\n",
       "            <td>10</td>\n",
       "        </tr>\n",
       "        <tr>\n",
       "            <td>11</td>\n",
       "        </tr>\n",
       "        <tr>\n",
       "            <td>12</td>\n",
       "        </tr>\n",
       "        <tr>\n",
       "            <td>13</td>\n",
       "        </tr>\n",
       "        <tr>\n",
       "            <td>14</td>\n",
       "        </tr>\n",
       "        <tr>\n",
       "            <td>15</td>\n",
       "        </tr>\n",
       "        <tr>\n",
       "            <td>16</td>\n",
       "        </tr>\n",
       "        <tr>\n",
       "            <td>17</td>\n",
       "        </tr>\n",
       "        <tr>\n",
       "            <td>20</td>\n",
       "        </tr>\n",
       "        <tr>\n",
       "            <td>21</td>\n",
       "        </tr>\n",
       "        <tr>\n",
       "            <td>22</td>\n",
       "        </tr>\n",
       "        <tr>\n",
       "            <td>23</td>\n",
       "        </tr>\n",
       "        <tr>\n",
       "            <td>24</td>\n",
       "        </tr>\n",
       "    </tbody>\n",
       "</table>"
      ],
      "text/plain": [
       "[(3,),\n",
       " (4,),\n",
       " (6,),\n",
       " (7,),\n",
       " (8,),\n",
       " (9,),\n",
       " (10,),\n",
       " (11,),\n",
       " (12,),\n",
       " (13,),\n",
       " (14,),\n",
       " (15,),\n",
       " (16,),\n",
       " (17,),\n",
       " (20,),\n",
       " (21,),\n",
       " (22,),\n",
       " (23,),\n",
       " (24,)]"
      ]
     },
     "execution_count": 39,
     "metadata": {},
     "output_type": "execute_result"
    }
   ],
   "source": [
    "# B6: Liste as sessões que ainda não possuem ingressos vendidos\n",
    "\n",
    "# %sql SELECT sessoes.id, ingressos.sessao_id FROM (sessoes FULL OUTER JOIN ingressos ON sessoes.id=ingressos.sessao_id) WHERE ingressos.sessao_id IS NULL\n",
    "\n",
    "%sql SELECT sessoes.id FROM (sessoes FULL OUTER JOIN ingressos ON sessoes.id=ingressos.sessao_id) WHERE ingressos.sessao_id IS NULL"
   ]
  },
  {
   "cell_type": "code",
   "execution_count": 40,
   "id": "a1251a68-db60-43cd-a8ab-e263151e2031",
   "metadata": {},
   "outputs": [
    {
     "name": "stdout",
     "output_type": "stream",
     "text": [
      " * sqlite:///TP1.db\n",
      "Done.\n"
     ]
    },
    {
     "data": {
      "text/html": [
       "<table>\n",
       "    <thead>\n",
       "        <tr>\n",
       "            <th>filmes_id</th>\n",
       "        </tr>\n",
       "    </thead>\n",
       "    <tbody>\n",
       "        <tr>\n",
       "            <td>19</td>\n",
       "        </tr>\n",
       "    </tbody>\n",
       "</table>"
      ],
      "text/plain": [
       "[(19,)]"
      ]
     },
     "execution_count": 40,
     "metadata": {},
     "output_type": "execute_result"
    }
   ],
   "source": [
    "# B7: Liste os filmes com mais de 3 sessões programadas\n",
    "\n",
    "%sql SELECT sessoes.filmes_id FROM sessoes GROUP BY sessoes.filmes_id HAVING COUNT(*)>3\n"
   ]
  },
  {
   "cell_type": "code",
   "execution_count": 12,
   "id": "5455ffff-640d-4158-8c91-8332476c3185",
   "metadata": {},
   "outputs": [
    {
     "name": "stdout",
     "output_type": "stream",
     "text": [
      " * sqlite:///TP1.db\n",
      "Done.\n"
     ]
    },
    {
     "data": {
      "text/html": [
       "<table>\n",
       "    <thead>\n",
       "        <tr>\n",
       "            <th>cliente_id</th>\n",
       "        </tr>\n",
       "    </thead>\n",
       "    <tbody>\n",
       "        <tr>\n",
       "            <td>3</td>\n",
       "        </tr>\n",
       "        <tr>\n",
       "            <td>2</td>\n",
       "        </tr>\n",
       "    </tbody>\n",
       "</table>"
      ],
      "text/plain": [
       "[(3,), (2,)]"
      ]
     },
     "execution_count": 12,
     "metadata": {},
     "output_type": "execute_result"
    }
   ],
   "source": [
    "# B8: Encontre os clientes que assistiram a filmes de ’Drama’\n",
    "\n",
    "# %sql SELECT ingressos.cliente_id FROM ingressos GROUP BY ingressos.cliente_id\n",
    "\n",
    "%sql SELECT ingressos.cliente_id FROM (ingressos, sessoes, filmes) WHERE ingressos.sessao_id=sessoes.id AND sessoes.filmes_id=filmes.id AND filmes.genero=\"Drama\""
   ]
  },
  {
   "cell_type": "code",
   "execution_count": 43,
   "id": "58c23dc1-01fd-4f34-9d3d-85b1fa512ec1",
   "metadata": {},
   "outputs": [
    {
     "name": "stdout",
     "output_type": "stream",
     "text": [
      " * sqlite:///TP1.db\n",
      "Done.\n"
     ]
    },
    {
     "data": {
      "text/html": [
       "<table>\n",
       "    <thead>\n",
       "        <tr>\n",
       "            <th>id</th>\n",
       "        </tr>\n",
       "    </thead>\n",
       "    <tbody>\n",
       "        <tr>\n",
       "            <td>20</td>\n",
       "        </tr>\n",
       "        <tr>\n",
       "            <td>21</td>\n",
       "        </tr>\n",
       "        <tr>\n",
       "            <td>22</td>\n",
       "        </tr>\n",
       "        <tr>\n",
       "            <td>23</td>\n",
       "        </tr>\n",
       "        <tr>\n",
       "            <td>24</td>\n",
       "        </tr>\n",
       "    </tbody>\n",
       "</table>"
      ],
      "text/plain": [
       "[(20,), (21,), (22,), (23,), (24,)]"
      ]
     },
     "execution_count": 43,
     "metadata": {},
     "output_type": "execute_result"
    }
   ],
   "source": [
    "# B9: Liste as sessões do filme ’Vingadores: Ultimato’\n",
    "\n",
    "%sql SELECT sessoes.id FROM (sessoes, filmes) WHERE filmes.titulo=\"Vingadores: Ultimato\" AND filmes.id=sessoes.filmes_id"
   ]
  },
  {
   "cell_type": "code",
   "execution_count": 44,
   "id": "2d83b0b2-8a5e-4e8b-ad8b-84e014613ab1",
   "metadata": {},
   "outputs": [
    {
     "name": "stdout",
     "output_type": "stream",
     "text": [
      " * sqlite:///TP1.db\n",
      "Done.\n",
      " * sqlite:///TP1.db\n",
      "Done.\n",
      " * sqlite:///TP1.db\n",
      "Done.\n"
     ]
    },
    {
     "data": {
      "text/html": [
       "<table>\n",
       "    <thead>\n",
       "        <tr>\n",
       "            <th>MAX(ingressos.data_compra)</th>\n",
       "            <th>COUNT(*)</th>\n",
       "        </tr>\n",
       "    </thead>\n",
       "    <tbody>\n",
       "    </tbody>\n",
       "</table>"
      ],
      "text/plain": [
       "[]"
      ]
     },
     "execution_count": 44,
     "metadata": {},
     "output_type": "execute_result"
    }
   ],
   "source": [
    "# B10 Qual o dia com maior número de ingressos vendidos?\n",
    "\n",
    "%sql SELECT MAX(ingressos.max) FROM (SELECT COUNT(*) AS max FROM ingressos GROUP BY data_compra) ingressos\n",
    "\n",
    "%sql SELECT ingressos.data_compra, COUNT(*) FROM ingressos GROUP BY data_compra\n",
    "\n",
    "%sql SELECT MAX(ingressos.data_compra), COUNT(*) FROM ingressos GROUP BY data_compra HAVING COUNT(*)=MAX(ingressos.data_compra)"
   ]
  }
 ],
 "metadata": {
  "kernelspec": {
   "display_name": "Python 3 (ipykernel)",
   "language": "python",
   "name": "python3"
  },
  "language_info": {
   "codemirror_mode": {
    "name": "ipython",
    "version": 3
   },
   "file_extension": ".py",
   "mimetype": "text/x-python",
   "name": "python",
   "nbconvert_exporter": "python",
   "pygments_lexer": "ipython3",
   "version": "3.12.7"
  }
 },
 "nbformat": 4,
 "nbformat_minor": 5
}
